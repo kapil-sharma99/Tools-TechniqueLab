{
 "cells": [
  {
   "cell_type": "markdown",
   "id": "e33f97b3",
   "metadata": {},
   "source": [
    "## Question - 03"
   ]
  },
  {
   "cell_type": "code",
   "execution_count": 46,
   "id": "d251c4f9",
   "metadata": {},
   "outputs": [],
   "source": [
    "import numpy as np\n",
    "import matplotlib.pyplot as plt\n",
    "import pandas as pd\n",
    "from sklearn.metrics import r2_score\n",
    "from sklearn.metrics import mean_absolute_error\n",
    "from sklearn.metrics import mean_squared_error\n",
    "from sklearn.metrics import confusion_matrix\n",
    "from sklearn.metrics import accuracy_score\n",
    "from sklearn.metrics import recall_score\n",
    "from sklearn.metrics import precision_score\n",
    "from sklearn.metrics import f1_score\n",
    "from sklearn.metrics import roc_auc_score\n",
    "from sklearn import preprocessing"
   ]
  },
  {
   "cell_type": "code",
   "execution_count": 52,
   "id": "7d4d6869",
   "metadata": {},
   "outputs": [],
   "source": [
    "#Importing the dataset\n",
    "df = pd.read_csv( \"Social_Network_Ads2.csv\") \n",
    "label_encoder = preprocessing.LabelEncoder()\n",
    "# Encode labels\n",
    "df['Gender']= label_encoder.fit_transform(df['Gender'])\n",
    "x = df.iloc[:,:-1].values\n",
    "y = df.iloc[:,-1].values"
   ]
  },
  {
   "cell_type": "code",
   "execution_count": 53,
   "id": "e5dee019",
   "metadata": {},
   "outputs": [
    {
     "data": {
      "text/html": [
       "<div>\n",
       "<style scoped>\n",
       "    .dataframe tbody tr th:only-of-type {\n",
       "        vertical-align: middle;\n",
       "    }\n",
       "\n",
       "    .dataframe tbody tr th {\n",
       "        vertical-align: top;\n",
       "    }\n",
       "\n",
       "    .dataframe thead th {\n",
       "        text-align: right;\n",
       "    }\n",
       "</style>\n",
       "<table border=\"1\" class=\"dataframe\">\n",
       "  <thead>\n",
       "    <tr style=\"text-align: right;\">\n",
       "      <th></th>\n",
       "      <th>User ID</th>\n",
       "      <th>Gender</th>\n",
       "      <th>Age</th>\n",
       "      <th>EstimatedSalary</th>\n",
       "      <th>Purchased</th>\n",
       "    </tr>\n",
       "  </thead>\n",
       "  <tbody>\n",
       "    <tr>\n",
       "      <th>0</th>\n",
       "      <td>15624510</td>\n",
       "      <td>1</td>\n",
       "      <td>19</td>\n",
       "      <td>19000</td>\n",
       "      <td>0</td>\n",
       "    </tr>\n",
       "    <tr>\n",
       "      <th>1</th>\n",
       "      <td>15810944</td>\n",
       "      <td>1</td>\n",
       "      <td>35</td>\n",
       "      <td>20000</td>\n",
       "      <td>0</td>\n",
       "    </tr>\n",
       "    <tr>\n",
       "      <th>2</th>\n",
       "      <td>15668575</td>\n",
       "      <td>0</td>\n",
       "      <td>26</td>\n",
       "      <td>43000</td>\n",
       "      <td>0</td>\n",
       "    </tr>\n",
       "    <tr>\n",
       "      <th>3</th>\n",
       "      <td>15603246</td>\n",
       "      <td>0</td>\n",
       "      <td>27</td>\n",
       "      <td>57000</td>\n",
       "      <td>0</td>\n",
       "    </tr>\n",
       "    <tr>\n",
       "      <th>4</th>\n",
       "      <td>15804002</td>\n",
       "      <td>1</td>\n",
       "      <td>19</td>\n",
       "      <td>76000</td>\n",
       "      <td>0</td>\n",
       "    </tr>\n",
       "    <tr>\n",
       "      <th>...</th>\n",
       "      <td>...</td>\n",
       "      <td>...</td>\n",
       "      <td>...</td>\n",
       "      <td>...</td>\n",
       "      <td>...</td>\n",
       "    </tr>\n",
       "    <tr>\n",
       "      <th>395</th>\n",
       "      <td>15691863</td>\n",
       "      <td>0</td>\n",
       "      <td>46</td>\n",
       "      <td>41000</td>\n",
       "      <td>1</td>\n",
       "    </tr>\n",
       "    <tr>\n",
       "      <th>396</th>\n",
       "      <td>15706071</td>\n",
       "      <td>1</td>\n",
       "      <td>51</td>\n",
       "      <td>23000</td>\n",
       "      <td>1</td>\n",
       "    </tr>\n",
       "    <tr>\n",
       "      <th>397</th>\n",
       "      <td>15654296</td>\n",
       "      <td>0</td>\n",
       "      <td>50</td>\n",
       "      <td>20000</td>\n",
       "      <td>1</td>\n",
       "    </tr>\n",
       "    <tr>\n",
       "      <th>398</th>\n",
       "      <td>15755018</td>\n",
       "      <td>1</td>\n",
       "      <td>36</td>\n",
       "      <td>33000</td>\n",
       "      <td>0</td>\n",
       "    </tr>\n",
       "    <tr>\n",
       "      <th>399</th>\n",
       "      <td>15594041</td>\n",
       "      <td>0</td>\n",
       "      <td>49</td>\n",
       "      <td>36000</td>\n",
       "      <td>1</td>\n",
       "    </tr>\n",
       "  </tbody>\n",
       "</table>\n",
       "<p>400 rows × 5 columns</p>\n",
       "</div>"
      ],
      "text/plain": [
       "      User ID  Gender  Age  EstimatedSalary  Purchased\n",
       "0    15624510       1   19            19000          0\n",
       "1    15810944       1   35            20000          0\n",
       "2    15668575       0   26            43000          0\n",
       "3    15603246       0   27            57000          0\n",
       "4    15804002       1   19            76000          0\n",
       "..        ...     ...  ...              ...        ...\n",
       "395  15691863       0   46            41000          1\n",
       "396  15706071       1   51            23000          1\n",
       "397  15654296       0   50            20000          1\n",
       "398  15755018       1   36            33000          0\n",
       "399  15594041       0   49            36000          1\n",
       "\n",
       "[400 rows x 5 columns]"
      ]
     },
     "execution_count": 53,
     "metadata": {},
     "output_type": "execute_result"
    }
   ],
   "source": [
    "df"
   ]
  },
  {
   "cell_type": "code",
   "execution_count": 54,
   "id": "7b6f6273",
   "metadata": {},
   "outputs": [],
   "source": [
    "#Splitting the dataset into the Training set and Test set\n",
    "from sklearn.model_selection import train_test_split\n",
    "x_train, x_test, y_train, y_test = train_test_split(x,y, test_size=0.25, random_state=0)"
   ]
  },
  {
   "cell_type": "code",
   "execution_count": 55,
   "id": "8f24eb43",
   "metadata": {},
   "outputs": [],
   "source": [
    "#Feature Scaling\n",
    "from sklearn.preprocessing import StandardScaler\n",
    "sc = StandardScaler()\n",
    "x_train = sc.fit_transform(x_train)\n",
    "x_test = sc.transform(x_test)"
   ]
  },
  {
   "cell_type": "markdown",
   "id": "a6b0123d",
   "metadata": {},
   "source": [
    "#### KNN MODEL"
   ]
  },
  {
   "cell_type": "code",
   "execution_count": 56,
   "id": "00c8f4b4",
   "metadata": {},
   "outputs": [
    {
     "data": {
      "text/plain": [
       "KNeighborsClassifier()"
      ]
     },
     "execution_count": 56,
     "metadata": {},
     "output_type": "execute_result"
    }
   ],
   "source": [
    "#Training KNN model in train set\n",
    "from sklearn.neighbors import KNeighborsClassifier \n",
    "classifier = KNeighborsClassifier(n_neighbors = 5, metric ='minkowski', p =2)\n",
    "classifier.fit(x_train,y_train)"
   ]
  },
  {
   "cell_type": "code",
   "execution_count": null,
   "id": "4a9e0c2b",
   "metadata": {},
   "outputs": [],
   "source": []
  },
  {
   "cell_type": "code",
   "execution_count": 59,
   "id": "56ae62b5",
   "metadata": {},
   "outputs": [],
   "source": [
    "#Predicting a test set results\n",
    "y_pred = classifier.predict(x_test)"
   ]
  },
  {
   "cell_type": "code",
   "execution_count": 60,
   "id": "97631319",
   "metadata": {},
   "outputs": [
    {
     "data": {
      "text/plain": [
       "array([0, 0, 0, 0, 0, 0, 0, 1, 0, 1, 0, 0, 0, 0, 0, 0, 0, 0, 1, 0, 0, 1,\n",
       "       0, 1, 0, 1, 0, 0, 0, 0, 0, 0, 1, 0, 0, 0, 0, 0, 0, 1, 0, 0, 0, 0,\n",
       "       1, 0, 0, 1, 0, 1, 1, 0, 0, 1, 1, 1, 0, 0, 1, 0, 0, 1, 0, 1, 0, 1,\n",
       "       0, 0, 0, 0, 1, 0, 0, 1, 0, 0, 0, 0, 1, 1, 1, 1, 0, 0, 1, 0, 0, 1,\n",
       "       1, 0, 0, 1, 0, 0, 0, 0, 0, 0, 1, 1], dtype=int64)"
      ]
     },
     "execution_count": 60,
     "metadata": {},
     "output_type": "execute_result"
    }
   ],
   "source": [
    "y_pred"
   ]
  },
  {
   "cell_type": "code",
   "execution_count": 61,
   "id": "59ce2d39",
   "metadata": {},
   "outputs": [
    {
     "name": "stdout",
     "output_type": "stream",
     "text": [
      "Model Evaluation: \n",
      "r2_score:  0.6783088235294117\n",
      "Mean absolute error:  0.07\n",
      "Mean Squared Error:  0.07\n",
      "confusion matrix:  [[65  3]\n",
      " [ 4 28]]\n",
      "Accuracy Score:  0.93\n",
      "Recall Score:  0.875\n",
      "Precision Score:  0.9032258064516129\n",
      "F1 Score:  0.8888888888888888\n",
      "AUC-ROC Curve:  0.9154411764705883\n"
     ]
    }
   ],
   "source": [
    "print(\"Model Evaluation: \")\n",
    "print(\"r2_score: \", r2_score(y_test, y_pred))\n",
    "print(\"Mean absolute error: \", mean_absolute_error(y_test, y_pred))\n",
    "print(\"Mean Squared Error: \", mean_squared_error(y_test, y_pred))\n",
    "print(\"confusion matrix: \", confusion_matrix(y_test, y_pred))\n",
    "print(\"Accuracy Score: \", accuracy_score(y_test, y_pred))\n",
    "print(\"Recall Score: \", recall_score(y_test, y_pred))\n",
    "print(\"Precision Score: \", precision_score(y_test, y_pred))\n",
    "print(\"F1 Score: \", f1_score(y_test, y_pred))\n",
    "print(\"AUC-ROC Curve: \", roc_auc_score(y_test, y_pred))"
   ]
  },
  {
   "cell_type": "markdown",
   "id": "0c599553",
   "metadata": {},
   "source": [
    "#### Logistic Regression Model"
   ]
  },
  {
   "cell_type": "code",
   "execution_count": 62,
   "id": "31708045",
   "metadata": {},
   "outputs": [],
   "source": [
    "from sklearn.linear_model import LogisticRegression\n",
    "model = LogisticRegression()"
   ]
  },
  {
   "cell_type": "code",
   "execution_count": 63,
   "id": "10bb4984",
   "metadata": {},
   "outputs": [
    {
     "data": {
      "text/plain": [
       "LogisticRegression()"
      ]
     },
     "execution_count": 63,
     "metadata": {},
     "output_type": "execute_result"
    }
   ],
   "source": [
    "model.fit(x_train, y_train)"
   ]
  },
  {
   "cell_type": "code",
   "execution_count": 64,
   "id": "29c1947e",
   "metadata": {},
   "outputs": [
    {
     "data": {
      "text/plain": [
       "array([0, 0, 0, 0, 0, 0, 0, 1, 0, 1, 0, 0, 0, 0, 0, 0, 0, 0, 1, 0, 0, 1,\n",
       "       0, 1, 0, 1, 0, 0, 0, 0, 0, 0, 1, 0, 0, 0, 0, 0, 0, 1, 0, 0, 0, 0,\n",
       "       1, 0, 0, 1, 0, 1, 1, 0, 0, 0, 1, 0, 0, 0, 0, 0, 0, 1, 0, 0, 0, 1,\n",
       "       0, 0, 0, 0, 1, 0, 0, 0, 0, 0, 0, 0, 1, 1, 1, 1, 0, 0, 1, 1, 0, 1,\n",
       "       0, 0, 0, 1, 0, 0, 0, 0, 0, 0, 1, 1], dtype=int64)"
      ]
     },
     "execution_count": 64,
     "metadata": {},
     "output_type": "execute_result"
    }
   ],
   "source": [
    "y_pred2 = model.predict(x_test)\n",
    "y_pred2"
   ]
  },
  {
   "cell_type": "code",
   "execution_count": 65,
   "id": "4e606cee",
   "metadata": {},
   "outputs": [
    {
     "name": "stdout",
     "output_type": "stream",
     "text": [
      "Model Evaluation: \n",
      "r2_score:  0.5404411764705881\n",
      "Mean absolute error:  0.1\n",
      "Mean Squared Error:  0.1\n",
      "confusion matrix:  [[66  2]\n",
      " [ 8 24]]\n",
      "Accuracy Score:  0.9\n",
      "Recall Score:  0.75\n",
      "Precision Score:  0.9230769230769231\n",
      "F1 Score:  0.8275862068965517\n",
      "AUC-ROC Curve:  0.8602941176470588\n"
     ]
    }
   ],
   "source": [
    "print(\"Model Evaluation: \")\n",
    "print(\"r2_score: \", r2_score(y_test, y_pred2))\n",
    "print(\"Mean absolute error: \", mean_absolute_error(y_test, y_pred2))\n",
    "print(\"Mean Squared Error: \", mean_squared_error(y_test, y_pred2))\n",
    "print(\"confusion matrix: \", confusion_matrix(y_test, y_pred2))\n",
    "print(\"Accuracy Score: \", accuracy_score(y_test, y_pred2))\n",
    "print(\"Recall Score: \", recall_score(y_test, y_pred2))\n",
    "print(\"Precision Score: \", precision_score(y_test, y_pred2))\n",
    "print(\"F1 Score: \", f1_score(y_test, y_pred2))\n",
    "print(\"AUC-ROC Curve: \", roc_auc_score(y_test, y_pred2))"
   ]
  },
  {
   "cell_type": "markdown",
   "id": "f1451b9c",
   "metadata": {},
   "source": [
    "### Decision Tree Model"
   ]
  },
  {
   "cell_type": "code",
   "execution_count": 66,
   "id": "1f3b9cee",
   "metadata": {},
   "outputs": [],
   "source": [
    "from sklearn.tree import DecisionTreeClassifier\n",
    "classifier2 = DecisionTreeClassifier()\n",
    "classifier2 = classifier2.fit(x_train,y_train)"
   ]
  },
  {
   "cell_type": "code",
   "execution_count": 67,
   "id": "d6f20b8f",
   "metadata": {},
   "outputs": [
    {
     "data": {
      "text/plain": [
       "array([0, 0, 0, 0, 0, 0, 0, 1, 0, 1, 0, 0, 1, 0, 0, 1, 0, 0, 1, 0, 0, 1,\n",
       "       0, 1, 0, 1, 0, 0, 0, 0, 0, 0, 1, 0, 0, 0, 0, 0, 0, 1, 0, 0, 0, 0,\n",
       "       0, 0, 0, 1, 0, 0, 1, 0, 0, 1, 1, 1, 0, 0, 1, 0, 0, 0, 0, 1, 0, 1,\n",
       "       0, 0, 0, 0, 1, 0, 0, 0, 0, 0, 0, 0, 1, 1, 1, 1, 0, 0, 1, 0, 0, 1,\n",
       "       1, 0, 0, 1, 0, 0, 0, 1, 0, 1, 1, 1], dtype=int64)"
      ]
     },
     "execution_count": 67,
     "metadata": {},
     "output_type": "execute_result"
    }
   ],
   "source": [
    "y_pred3 = classifier2.predict(x_test)\n",
    "y_pred3"
   ]
  },
  {
   "cell_type": "code",
   "execution_count": 68,
   "id": "54e7fd82",
   "metadata": {},
   "outputs": [
    {
     "name": "stdout",
     "output_type": "stream",
     "text": [
      "Model Evaluation: \n",
      "r2_score:  0.49448529411764697\n",
      "Mean absolute error:  0.11\n",
      "Mean Squared Error:  0.11\n",
      "confusion matrix:  [[63  5]\n",
      " [ 6 26]]\n",
      "Accuracy Score:  0.89\n",
      "Recall Score:  0.8125\n",
      "Precision Score:  0.8387096774193549\n",
      "F1 Score:  0.8253968253968254\n",
      "AUC-ROC Curve:  0.8694852941176471\n"
     ]
    }
   ],
   "source": [
    "print(\"Model Evaluation: \")\n",
    "print(\"r2_score: \", r2_score(y_test, y_pred3))\n",
    "print(\"Mean absolute error: \", mean_absolute_error(y_test, y_pred3))\n",
    "print(\"Mean Squared Error: \", mean_squared_error(y_test, y_pred3))\n",
    "print(\"confusion matrix: \", confusion_matrix(y_test, y_pred3))\n",
    "print(\"Accuracy Score: \", accuracy_score(y_test, y_pred3))\n",
    "print(\"Recall Score: \", recall_score(y_test, y_pred3))\n",
    "print(\"Precision Score: \", precision_score(y_test, y_pred3))\n",
    "print(\"F1 Score: \", f1_score(y_test, y_pred3))\n",
    "print(\"AUC-ROC Curve: \", roc_auc_score(y_test, y_pred3))"
   ]
  },
  {
   "cell_type": "markdown",
   "id": "54c05810",
   "metadata": {},
   "source": [
    "### Bar plot"
   ]
  },
  {
   "cell_type": "code",
   "execution_count": 69,
   "id": "a9b62a87",
   "metadata": {},
   "outputs": [
    {
     "data": {
      "image/png": "[encoded data removed]",
      "text/plain": [
       "<Figure size 432x288 with 1 Axes>"
      ]
     },
     "metadata": {
      "needs_background": "light"
     },
     "output_type": "display_data"
    }
   ],
   "source": [
    "knn_accuracy = accuracy_score(y_test, y_pred)\n",
    "logistic_accuracy = accuracy_score(y_test, y_pred2)\n",
    "dt_accuracy = accuracy_score(y_test, y_pred3)\n",
    "accuracy_list = [knn_accuracy, logistic_accuracy, dt_accuracy]\n",
    "keys = [\"KNN Accuracy\", \"Logistic Accuracy\", \"DT Accuracy\"]\n",
    "plt.bar(keys, accuracy_list, width = 0.4)\n",
    "plt.title(\"Bar plot for accuracy: \")\n",
    "plt.show()"
   ]
  },
  {
   "cell_type": "code",
   "execution_count": 70,
   "id": "be4f4f51",
   "metadata": {},
   "outputs": [
    {
     "data": {
      "image/png": "[encoded data removed]",
      "text/plain": [
       "<Figure size 432x288 with 1 Axes>"
      ]
     },
     "metadata": {
      "needs_background": "light"
     },
     "output_type": "display_data"
    }
   ],
   "source": [
    "knn_f1_score = f1_score(y_test, y_pred)\n",
    "logistic_f1_score = f1_score(y_test, y_pred2)\n",
    "dt_f1_score = f1_score(y_test, y_pred3)\n",
    "f1_score_list = [knn_f1_score, logistic_f1_score, dt_f1_score]\n",
    "keys = [\"KNN Accuracy\", \"Logistic Accuracy\", \"DT Accuracy\"]\n",
    "plt.bar(keys, f1_score_list, width = 0.4)\n",
    "plt.title(\"Bar plot for f1_score: \")\n",
    "plt.show()"
   ]
  },
  {
   "cell_type": "code",
   "execution_count": 71,
   "id": "506feeb5",
   "metadata": {},
   "outputs": [
    {
     "data": {
      "image/png": "[encoded data removed]",
      "text/plain": [
       "<Figure size 432x288 with 1 Axes>"
      ]
     },
     "metadata": {
      "needs_background": "light"
     },
     "output_type": "display_data"
    }
   ],
   "source": [
    "knn_precision = precision_score(y_test, y_pred)\n",
    "logistic_precision = precision_score(y_test, y_pred2)\n",
    "dt_precision = precision_score(y_test, y_pred3)\n",
    "precision_list = [knn_precision, logistic_precision, dt_precision]\n",
    "keys = [\"KNN Accuracy\", \"Logistic Accuracy\", \"DT Accuracy\"]\n",
    "plt.bar(keys, precision_list, width = 0.4)\n",
    "plt.title(\"Bar plot for precision: \")\n",
    "plt.show()"
   ]
  },
  {
   "cell_type": "markdown",
   "id": "179c54e3",
   "metadata": {},
   "source": [
    "## Question - 02"
   ]
  },
  {
   "cell_type": "code",
   "execution_count": 14,
   "id": "db3f74d8",
   "metadata": {},
   "outputs": [
    {
     "name": "stdout",
     "output_type": "stream",
     "text": [
      "Enter your name: Kapil Sharma\n",
      "For list of items press 11\n",
      "\n",
      "Rice    Rs 20/kg\n",
      "Sugar   Rs 30/kg\n",
      "Salt    Rs 20/kg\n",
      "Paneer  Rs 80/kg\n",
      "\n"
     ]
    }
   ],
   "source": [
    "customerName = input(\"Enter your name: \")\n",
    "itemList = '''\n",
    "Rice    Rs 20/kg\n",
    "Sugar   Rs 30/kg\n",
    "Salt    Rs 20/kg\n",
    "Paneer  Rs 80/kg\n",
    "'''\n",
    "\n",
    "price = 0\n",
    "priceList = []\n",
    "totalPrice = 0\n",
    "FinalDiscountedPrice = 0\n",
    "selectedItemList = []\n",
    "quantityList = []\n",
    "priceListFinal = []\n",
    "\n",
    "#Rates\n",
    "items = {'rice': 20, 'sugar': 30, 'salt': 20, 'paneer': 80}\n",
    "option = int(input(\"For list of items press 1\"))\n",
    "if option == 1:\n",
    "    print(itemList)"
   ]
  },
  {
   "cell_type": "code",
   "execution_count": 15,
   "id": "f9adcc8f",
   "metadata": {},
   "outputs": [
    {
     "name": "stdout",
     "output_type": "stream",
     "text": [
      "For buying press 1 or 2 for exit: 1\n",
      "Enter your items: rice\n",
      "Enter quantity: 3\n",
      "For buying press 1 or 2 for exit: 1\n",
      "Enter your items: sugar\n",
      "Enter quantity: 3\n",
      "For buying press 1 or 2 for exit: 1\n",
      "Enter your items: salt\n",
      "Enter quantity: 2\n",
      "For buying press 1 or 2 for exit: 1\n",
      "Enter your items: paneer\n",
      "Enter quantity: 4\n"
     ]
    }
   ],
   "source": [
    "for i in range(len(items)):\n",
    "    inp1 = int(input(\"For buying press 1 or 2 for exit: \"))\n",
    "    if inp1 == 2:\n",
    "        break\n",
    "    if inp1 == 1:\n",
    "        item = input(\"Enter your items: \")\n",
    "        quantity = int(input(\"Enter quantity: \"))\n",
    "        if item in items.keys():\n",
    "            price = quantity*(items[item])\n",
    "            totalPrice += price\n",
    "            if totalPrice > 5000:\n",
    "                price = price*0.9\n",
    "                finalPrice += price\n",
    "                finalPrice = finalPrice*0.95\n",
    "            elif totalPrice > 2000 and totalPrice < 5000:\n",
    "                price = price*0.95\n",
    "                finalPrice += price\n",
    "                finalPrice = finalPrice* 0.975\n",
    "            else:\n",
    "                finalPrice = totalPrice*0.95\n",
    "            priceList.append((item, quantity, items, price))\n",
    "            selectedItemList.append(item)\n",
    "            quantityList.append(quantity)\n",
    "            priceListFinal.append(price)\n",
    "        else:\n",
    "            print(\"Item not present in list\")\n",
    "    else:\n",
    "        print(\"Option not available\")"
   ]
  },
  {
   "cell_type": "code",
   "execution_count": 16,
   "id": "d9c996df",
   "metadata": {},
   "outputs": [
    {
     "name": "stdout",
     "output_type": "stream",
     "text": [
      "Item ID:  1\n",
      "Customer Name:  Kapil Sharma\n",
      "Item Name:  rice\n",
      "Quantity:  3\n",
      "Price:  60\n",
      "*===========================*\n",
      "Item ID:  2\n",
      "Customer Name:  Kapil Sharma\n",
      "Item Name:  sugar\n",
      "Quantity:  3\n",
      "Price:  90\n",
      "*===========================*\n",
      "Item ID:  3\n",
      "Customer Name:  Kapil Sharma\n",
      "Item Name:  salt\n",
      "Quantity:  2\n",
      "Price:  40\n",
      "*===========================*\n",
      "Item ID:  4\n",
      "Customer Name:  Kapil Sharma\n",
      "Item Name:  paneer\n",
      "Quantity:  4\n",
      "Price:  320\n",
      "*===========================*\n",
      "Total Discounted Price:  484.5\n"
     ]
    }
   ],
   "source": [
    "for i in range(len(priceList)):\n",
    "    print(\"Item ID: \", i+1)\n",
    "    print(\"Customer Name: \", customerName)\n",
    "    print(\"Item Name: \", selectedItemList[i])\n",
    "    print(\"Quantity: \", quantityList[i])\n",
    "    print(\"Price: \", priceListFinal[i])\n",
    "    print(\"*===========================*\")\n",
    "print(\"Total Discounted Price: \", finalPrice)"
   ]
  },
  {
   "cell_type": "markdown",
   "id": "e5f1261e",
   "metadata": {},
   "source": [
    "## Question - 01"
   ]
  },
  {
   "cell_type": "code",
   "execution_count": 22,
   "id": "70a891ea",
   "metadata": {},
   "outputs": [
    {
     "name": "stdout",
     "output_type": "stream",
     "text": [
      "Enter number of students: 10\n",
      "Enter roll no: 1\n",
      "Enter student name: Kapil Sharma\n",
      "Enter vehicle no: 1\n",
      "Enter vehicle name: Ford Ecosport\n",
      "Enter vehicle colour: White\n",
      "Enter roll no: 2\n",
      "Enter student name: Pushpam\n",
      "Enter vehicle no: 2\n",
      "Enter vehicle name: CD Deluxe\n",
      "Enter vehicle colour: Black\n",
      "Enter roll no: 3\n",
      "Enter student name: Pikaa\n",
      "Enter vehicle no: 3\n",
      "Enter vehicle name: Ford Endeavour\n",
      "Enter vehicle colour: White\n",
      "Enter roll no: 4\n",
      "Enter student name: Kaali\n",
      "Enter vehicle no: 4\n",
      "Enter vehicle name: Heavy Duty\n",
      "Enter vehicle colour: Black\n",
      "Enter roll no: 5\n",
      "Enter student name: Chandu\n",
      "Enter vehicle no: 5\n",
      "Enter vehicle name: Honda City\n",
      "Enter vehicle colour: White\n",
      "Enter roll no: 6\n",
      "Enter student name: Zulu\n",
      "Enter vehicle no: 6\n",
      "Enter vehicle name: Creta\n",
      "Enter vehicle colour: Green\n",
      "Enter roll no: 7\n",
      "Enter student name: Ankit\n",
      "Enter vehicle no: 7\n",
      "Enter vehicle name: Chetak Scooter\n",
      "Enter vehicle colour: Green\n",
      "Enter roll no: 8\n",
      "Enter student name: Yash\n",
      "Enter vehicle no: 8\n",
      "Enter vehicle name: Maruti 800\n",
      "Enter vehicle colour: Blue\n",
      "Enter roll no: 9\n",
      "Enter student name: Kavya\n",
      "Enter vehicle no: 9\n",
      "Enter vehicle name: Honda Shine\n",
      "Enter vehicle colour: Red\n",
      "Enter roll no: 10\n",
      "Enter student name: Price\n",
      "Enter vehicle no: 10\n",
      "Enter vehicle name: Juice Vehicle\n",
      "Enter vehicle colour: Red\n"
     ]
    }
   ],
   "source": [
    "numberOfStudents = int(input(\"Enter number of students: \")) \n",
    "dictionary = {} \n",
    "for i in range(numberOfStudents): \n",
    "    roll_no=int(input(\"Enter roll no: \")) \n",
    "    Student_name=input(\"Enter student name: \") \n",
    "    vehicle_no=int(input(\"Enter vehicle no: \"))\n",
    "    vehicle_name = (input(\"Enter vehicle name: \"))\n",
    "    vehicle_colour  =(input(\"Enter vehicle colour: \"))\n",
    "    dictionary[roll_no] = [Student_name, vehicle_no, vehicle_name, vehicle_colour]"
   ]
  },
  {
   "cell_type": "code",
   "execution_count": 32,
   "id": "17fe4c4b",
   "metadata": {},
   "outputs": [
    {
     "name": "stdout",
     "output_type": "stream",
     "text": [
      "Cars According to section: \n",
      "White: \n",
      "[['Kapil Sharma', 1, 'Ford Ecosport', 'White'], ['Pikaa', 3, 'Ford Endeavour', 'White'], ['Chandu', 5, 'Honda City', 'White']]\n",
      "==========\n",
      "Black: \n",
      "[['Pushpam', 2, 'CD Deluxe', 'Black'], ['Kaali', 4, 'Heavy Duty', 'Black']]\n",
      "==========\n",
      "Red: \n",
      "[['Zulu', 6, 'Creta', 'Green'], ['Ankit', 7, 'Chetak Scooter', 'Green'], ['Kavya', 9, 'Honda Shine', 'Red'], ['Price', 10, 'Juice Vehicle', 'Red']]\n",
      "==========\n",
      "Green: \n",
      "[]\n"
     ]
    }
   ],
   "source": [
    "section1 = []\n",
    "section2 = []\n",
    "section3 = []\n",
    "section4 = []\n",
    "for i in range(len(dictionary)):\n",
    "    if dictionary[i+1][3] == 'White':\n",
    "        section1.append(dictionary[i+1])\n",
    "    if dictionary[i+1][3] == 'Black':\n",
    "        section2.append(dictionary[i+1])\n",
    "    if(dictionary[i+1][3] == 'Red'):\n",
    "        section3.append(dictionary[i+1])\n",
    "    if(dictionary[i+1][3] == 'Green'):\n",
    "        section3.append(dictionary[i+1])\n",
    "\n",
    "print(\"Cars According to section: \")\n",
    "print(\"White: \")\n",
    "print(section1)\n",
    "print(10*\"=\")\n",
    "print(\"Black: \")\n",
    "print(section2)\n",
    "print(10*\"=\")\n",
    "print(\"Red: \")\n",
    "print(section3)\n",
    "print(10*\"=\")\n",
    "print(\"Green: \")\n",
    "print(section4)"
   ]
  },
  {
   "cell_type": "code",
   "execution_count": 29,
   "id": "c616aa87",
   "metadata": {},
   "outputs": [
    {
     "name": "stdout",
     "output_type": "stream",
     "text": [
      "{1: ['Kapil Sharma', 1, 'Ford Ecosport', 'White'], 2: ['Pushpam', 2, 'CD Deluxe', 'Black'], 3: ['Pikaa', 3, 'Ford Endeavour', 'White'], 4: ['Kaali', 4, 'Heavy Duty', 'Black'], 5: ['Chandu', 5, 'Honda City', 'White'], 6: ['Zulu', 6, 'Creta', 'Green'], 7: ['Ankit', 7, 'Chetak Scooter', 'Green'], 8: ['Yash', 8, 'Maruti 800', 'Blue'], 9: ['Kavya', 9, 'Honda Shine', 'Red'], 10: ['Price', 10, 'Juice Vehicle', 'Red']}\n"
     ]
    }
   ],
   "source": []
  },
  {
   "cell_type": "code",
   "execution_count": null,
   "id": "02788875",
   "metadata": {},
   "outputs": [],
   "source": []
  }
 ],
 "metadata": {
  "kernelspec": {
   "display_name": "Python 3",
   "language": "python",
   "name": "python3"
  },
  "language_info": {
   "codemirror_mode": {
    "name": "ipython",
    "version": 3
   },
   "file_extension": ".py",
   "mimetype": "text/x-python",
   "name": "python",
   "nbconvert_exporter": "python",
   "pygments_lexer": "ipython3",
   "version": "3.8.8"
  }
 },
 "nbformat": 4,
 "nbformat_minor": 5
}
