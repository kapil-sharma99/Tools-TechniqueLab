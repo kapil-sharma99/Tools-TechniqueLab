{
 "cells": [
  {
   "cell_type": "code",
   "execution_count": 11,
   "id": "c273ac24",
   "metadata": {},
   "outputs": [],
   "source": [
    "#Importing libraries\n",
    "import numpy as np\n",
    "import matplotlib.pyplot as plt\n",
    "import pandas as pd\n",
    "from sklearn.model_selection import train_test_split\n",
    "from sklearn.preprocessing import StandardScaler\n",
    "from sklearn.neighbors import KNeighborsClassifier\n",
    "from sklearn.metrics import confusion_matrix, accuracy_score\n",
    "from matplotlib.colors import ListedColormap"
   ]
  },
  {
   "cell_type": "code",
   "execution_count": 12,
   "id": "c13287b8",
   "metadata": {},
   "outputs": [],
   "source": [
    "df = pd.read_csv('caesarian.csv')\n",
    "x = df.iloc[:,:-1].values\n",
    "y = df.iloc[:,-1].values"
   ]
  },
  {
   "cell_type": "code",
   "execution_count": 13,
   "id": "0aa47f70",
   "metadata": {},
   "outputs": [
    {
     "name": "stdout",
     "output_type": "stream",
     "text": [
      "[[36  1  1  2  0]\n",
      " [31  1  0  1  0]\n",
      " [19  1  0  1  0]\n",
      " [24  2  2  1  0]\n",
      " [25  2  0  1  0]\n",
      " [20  1  2  2  0]\n",
      " [22  1  2  2  0]\n",
      " [32  2  0  0  0]\n",
      " [27  2  0  1  0]\n",
      " [32  3  1  0  1]\n",
      " [32  3  0  1  1]\n",
      " [22  2  0  1  0]\n",
      " [27  2  0  1  1]\n",
      " [35  1  1  0  0]\n",
      " [32  1  0  2  1]\n",
      " [33  1  1  0  0]\n",
      " [21  1  0  0  0]\n",
      " [27  1  0  0  1]\n",
      " [36  1  0  1  0]\n",
      " [40  1  0  1  1]\n",
      " [22  1  0  1  0]\n",
      " [19  1  0  1  0]\n",
      " [26  2  0  1  0]\n",
      " [32  2  0  2  1]\n",
      " [27  2  1  1  0]\n",
      " [29  1  2  0  1]\n",
      " [29  2  0  1  1]\n",
      " [24  1  2  0  1]\n",
      " [26  2  1  1  1]\n",
      " [29  2  0  0  1]\n",
      " [20  1  0  2  1]\n",
      " [28  3  0  2  0]\n",
      " [37  3  0  1  1]\n",
      " [22  1  0  2  0]\n",
      " [25  1  2  0  0]\n",
      " [25  1  2  0  0]\n",
      " [26  1  1  0  0]\n",
      " [30  2  1  2  1]\n",
      " [25  1  0  1  0]\n",
      " [21  2  1  0  1]\n",
      " [26  1  1  1  0]\n",
      " [38  3  2  2  1]\n",
      " [28  2  0  1  0]\n",
      " [20  1  0  1  1]\n",
      " [18  1  0  1  0]\n",
      " [31  2  2  1  0]\n",
      " [26  1  0  1  0]\n",
      " [26  1  2  0  1]\n",
      " [35  2  0  1  0]\n",
      " [26  1  0  2  0]\n",
      " [23  1  1  1  0]\n",
      " [17  1  0  0  0]\n",
      " [33  1  1  1  0]\n",
      " [33  2  0  0  1]\n",
      " [27  1  1  1  0]\n",
      " [33  4  0  1  0]\n",
      " [29  2  0  1  1]\n",
      " [31  1  2  2  1]\n",
      " [32  2  0  2  1]\n",
      " [36  4  0  2  1]]\n",
      "[[33  3  2  1  1]\n",
      " [30  1  0  1  0]\n",
      " [25  1  0  0  0]\n",
      " [29  2  1  2  0]\n",
      " [28  3  0  1  1]\n",
      " [29  1  2  0  1]\n",
      " [28  3  0  1  0]\n",
      " [25  1  0  0  0]\n",
      " [26  2  2  1  0]\n",
      " [27  2  2  0  0]\n",
      " [27  1  0  2  1]\n",
      " [32  2  0  1  1]\n",
      " [26  2  1  1  0]\n",
      " [28  2  0  1  0]\n",
      " [30  3  2  2  0]\n",
      " [26  2  2  1  0]\n",
      " [28  1  0  2  0]\n",
      " [25  1  1  2  0]\n",
      " [32  3  0  1  0]\n",
      " [18  1  1  2  1]]\n",
      "[1 0 1 0 0 1 0 1 0 1 0 1 1 0 1 1 1 1 0 1 1 1 1 1 0 1 1 1 0 1 1 1 1 0 1 0 0\n",
      " 1 0 1 0 1 0 0 0 0 0 1 1 1 0 1 0 1 1 1 0 0 1 1]\n",
      "[0 0 0 1 1 1 1 1 0 0 1 1 0 0 0 1 0 0 1 1]\n"
     ]
    }
   ],
   "source": [
    "x_train, x_test, y_train, y_test = train_test_split(x,y, test_size=0.25, random_state=0)\n",
    "print(x_train)\n",
    "print(x_test)\n",
    "print(y_train)\n",
    "print(y_test)"
   ]
  },
  {
   "cell_type": "code",
   "execution_count": 14,
   "id": "790cc7a8",
   "metadata": {},
   "outputs": [
    {
     "name": "stdout",
     "output_type": "stream",
     "text": [
      "[[ 1.51901137 -0.77032889  0.53360851  1.46298045 -0.81649658]\n",
      " [ 0.6021031  -0.77032889 -0.74705191  0.04719292 -0.81649658]\n",
      " [-1.59847675 -0.77032889 -0.74705191  0.04719292 -0.81649658]\n",
      " [-0.68156848  0.51355259  1.81426893  0.04719292 -0.81649658]\n",
      " [-0.49818683  0.51355259 -0.74705191  0.04719292 -0.81649658]\n",
      " [-1.4150951  -0.77032889  1.81426893  1.46298045 -0.81649658]\n",
      " [-1.04833179 -0.77032889  1.81426893  1.46298045 -0.81649658]\n",
      " [ 0.78548475  0.51355259 -0.74705191 -1.36859462 -0.81649658]\n",
      " [-0.13142352  0.51355259 -0.74705191  0.04719292 -0.81649658]\n",
      " [ 0.78548475  1.79743407  0.53360851 -1.36859462  1.22474487]\n",
      " [ 0.78548475  1.79743407 -0.74705191  0.04719292  1.22474487]\n",
      " [-1.04833179  0.51355259 -0.74705191  0.04719292 -0.81649658]\n",
      " [-0.13142352  0.51355259 -0.74705191  0.04719292  1.22474487]\n",
      " [ 1.33562972 -0.77032889  0.53360851 -1.36859462 -0.81649658]\n",
      " [ 0.78548475 -0.77032889 -0.74705191  1.46298045  1.22474487]\n",
      " [ 0.96886641 -0.77032889  0.53360851 -1.36859462 -0.81649658]\n",
      " [-1.23171344 -0.77032889 -0.74705191 -1.36859462 -0.81649658]\n",
      " [-0.13142352 -0.77032889 -0.74705191 -1.36859462  1.22474487]\n",
      " [ 1.51901137 -0.77032889 -0.74705191  0.04719292 -0.81649658]\n",
      " [ 2.25253799 -0.77032889 -0.74705191  0.04719292  1.22474487]\n",
      " [-1.04833179 -0.77032889 -0.74705191  0.04719292 -0.81649658]\n",
      " [-1.59847675 -0.77032889 -0.74705191  0.04719292 -0.81649658]\n",
      " [-0.31480517  0.51355259 -0.74705191  0.04719292 -0.81649658]\n",
      " [ 0.78548475  0.51355259 -0.74705191  1.46298045  1.22474487]\n",
      " [-0.13142352  0.51355259  0.53360851  0.04719292 -0.81649658]\n",
      " [ 0.23533979 -0.77032889  1.81426893 -1.36859462  1.22474487]\n",
      " [ 0.23533979  0.51355259 -0.74705191  0.04719292  1.22474487]\n",
      " [-0.68156848 -0.77032889  1.81426893 -1.36859462  1.22474487]\n",
      " [-0.31480517  0.51355259  0.53360851  0.04719292  1.22474487]\n",
      " [ 0.23533979  0.51355259 -0.74705191 -1.36859462  1.22474487]\n",
      " [-1.4150951  -0.77032889 -0.74705191  1.46298045  1.22474487]\n",
      " [ 0.05195814  1.79743407 -0.74705191  1.46298045 -0.81649658]\n",
      " [ 1.70239302  1.79743407 -0.74705191  0.04719292  1.22474487]\n",
      " [-1.04833179 -0.77032889 -0.74705191  1.46298045 -0.81649658]\n",
      " [-0.49818683 -0.77032889  1.81426893 -1.36859462 -0.81649658]\n",
      " [-0.49818683 -0.77032889  1.81426893 -1.36859462 -0.81649658]\n",
      " [-0.31480517 -0.77032889  0.53360851 -1.36859462 -0.81649658]\n",
      " [ 0.41872144  0.51355259  0.53360851  1.46298045  1.22474487]\n",
      " [-0.49818683 -0.77032889 -0.74705191  0.04719292 -0.81649658]\n",
      " [-1.23171344  0.51355259  0.53360851 -1.36859462  1.22474487]\n",
      " [-0.31480517 -0.77032889  0.53360851  0.04719292 -0.81649658]\n",
      " [ 1.88577468  1.79743407  1.81426893  1.46298045  1.22474487]\n",
      " [ 0.05195814  0.51355259 -0.74705191  0.04719292 -0.81649658]\n",
      " [-1.4150951  -0.77032889 -0.74705191  0.04719292  1.22474487]\n",
      " [-1.78185841 -0.77032889 -0.74705191  0.04719292 -0.81649658]\n",
      " [ 0.6021031   0.51355259  1.81426893  0.04719292 -0.81649658]\n",
      " [-0.31480517 -0.77032889 -0.74705191  0.04719292 -0.81649658]\n",
      " [-0.31480517 -0.77032889  1.81426893 -1.36859462  1.22474487]\n",
      " [ 1.33562972  0.51355259 -0.74705191  0.04719292 -0.81649658]\n",
      " [-0.31480517 -0.77032889 -0.74705191  1.46298045 -0.81649658]\n",
      " [-0.86495014 -0.77032889  0.53360851  0.04719292 -0.81649658]\n",
      " [-1.96524006 -0.77032889 -0.74705191 -1.36859462 -0.81649658]\n",
      " [ 0.96886641 -0.77032889  0.53360851  0.04719292 -0.81649658]\n",
      " [ 0.96886641  0.51355259 -0.74705191 -1.36859462  1.22474487]\n",
      " [-0.13142352 -0.77032889  0.53360851  0.04719292 -0.81649658]\n",
      " [ 0.96886641  3.08131555 -0.74705191  0.04719292 -0.81649658]\n",
      " [ 0.23533979  0.51355259 -0.74705191  0.04719292  1.22474487]\n",
      " [ 0.6021031  -0.77032889  1.81426893  1.46298045  1.22474487]\n",
      " [ 0.78548475  0.51355259 -0.74705191  1.46298045  1.22474487]\n",
      " [ 1.51901137  3.08131555 -0.74705191  1.46298045  1.22474487]]\n",
      "[[ 0.96886641  1.79743407  1.81426893  0.04719292  1.22474487]\n",
      " [ 0.41872144 -0.77032889 -0.74705191  0.04719292 -0.81649658]\n",
      " [-0.49818683 -0.77032889 -0.74705191 -1.36859462 -0.81649658]\n",
      " [ 0.23533979  0.51355259  0.53360851  1.46298045 -0.81649658]\n",
      " [ 0.05195814  1.79743407 -0.74705191  0.04719292  1.22474487]\n",
      " [ 0.23533979 -0.77032889  1.81426893 -1.36859462  1.22474487]\n",
      " [ 0.05195814  1.79743407 -0.74705191  0.04719292 -0.81649658]\n",
      " [-0.49818683 -0.77032889 -0.74705191 -1.36859462 -0.81649658]\n",
      " [-0.31480517  0.51355259  1.81426893  0.04719292 -0.81649658]\n",
      " [-0.13142352  0.51355259  1.81426893 -1.36859462 -0.81649658]\n",
      " [-0.13142352 -0.77032889 -0.74705191  1.46298045  1.22474487]\n",
      " [ 0.78548475  0.51355259 -0.74705191  0.04719292  1.22474487]\n",
      " [-0.31480517  0.51355259  0.53360851  0.04719292 -0.81649658]\n",
      " [ 0.05195814  0.51355259 -0.74705191  0.04719292 -0.81649658]\n",
      " [ 0.41872144  1.79743407  1.81426893  1.46298045 -0.81649658]\n",
      " [-0.31480517  0.51355259  1.81426893  0.04719292 -0.81649658]\n",
      " [ 0.05195814 -0.77032889 -0.74705191  1.46298045 -0.81649658]\n",
      " [-0.49818683 -0.77032889  0.53360851  1.46298045 -0.81649658]\n",
      " [ 0.78548475  1.79743407 -0.74705191  0.04719292 -0.81649658]\n",
      " [-1.78185841 -0.77032889  0.53360851  1.46298045  1.22474487]]\n"
     ]
    }
   ],
   "source": [
    "sc = StandardScaler()\n",
    "x_train = sc.fit_transform(x_train)\n",
    "x_test = sc.transform(x_test)\n",
    "print(x_train)\n",
    "print(x_test)"
   ]
  },
  {
   "cell_type": "code",
   "execution_count": 15,
   "id": "dd5d85cf",
   "metadata": {},
   "outputs": [
    {
     "data": {
      "text/plain": [
       "KNeighborsClassifier()"
      ]
     },
     "execution_count": 15,
     "metadata": {},
     "output_type": "execute_result"
    }
   ],
   "source": [
    "classifier = KNeighborsClassifier(n_neighbors = 5, metric ='minkowski', p =2)\n",
    "classifier.fit(x_train,y_train)"
   ]
  },
  {
   "cell_type": "code",
   "execution_count": 16,
   "id": "9840aaef",
   "metadata": {},
   "outputs": [
    {
     "name": "stdout",
     "output_type": "stream",
     "text": [
      "[0]\n"
     ]
    }
   ],
   "source": [
    "print(classifier.predict(sc.transform([[26, 1, 0, 1, 0]])))"
   ]
  },
  {
   "cell_type": "code",
   "execution_count": 17,
   "id": "c6af7b14",
   "metadata": {},
   "outputs": [],
   "source": [
    "y_pred = classifier.predict(x_test)\n",
    "#print(np.concatenate((y_pred.reshape(len(y_pred),1), y_test.reshape(len(y_test),1)),1))"
   ]
  },
  {
   "cell_type": "code",
   "execution_count": 18,
   "id": "094de0aa",
   "metadata": {},
   "outputs": [
    {
     "name": "stdout",
     "output_type": "stream",
     "text": [
      "[[9 1]\n",
      " [4 6]]\n"
     ]
    },
    {
     "data": {
      "text/plain": [
       "0.75"
      ]
     },
     "execution_count": 18,
     "metadata": {},
     "output_type": "execute_result"
    }
   ],
   "source": [
    "cm = confusion_matrix(y_test, y_pred)\n",
    "print(cm)\n",
    "accuracy_score(y_test, y_pred)"
   ]
  },
  {
   "cell_type": "code",
   "execution_count": 19,
   "id": "50e2d814",
   "metadata": {},
   "outputs": [
    {
     "ename": "ValueError",
     "evalue": "X has 2 features, but StandardScaler is expecting 5 features as input.",
     "output_type": "error",
     "traceback": [
      "\u001b[1;31m---------------------------------------------------------------------------\u001b[0m",
      "\u001b[1;31mValueError\u001b[0m                                Traceback (most recent call last)",
      "\u001b[1;32m<ipython-input-19-a49449235d3d>\u001b[0m in \u001b[0;36m<module>\u001b[1;34m\u001b[0m\n\u001b[0;32m      2\u001b[0m X1, X2 = np.meshgrid(np.arange(start = X_set[:, 0].min() - 10, stop = X_set[:, 0].max() + 10, step = 1),\n\u001b[0;32m      3\u001b[0m                      np.arange(start = X_set[:, 1].min() - 1000, stop = X_set[:, 1].max() + 1000, step = 1))\n\u001b[1;32m----> 4\u001b[1;33m plt.contourf(X1, X2, classifier.predict(sc.transform(np.array([X1.ravel(), X2.ravel()]).T)).reshape(X1.shape),\n\u001b[0m\u001b[0;32m      5\u001b[0m            alpha = 0.75, cmap = ListedColormap(('red', 'green')))\n\u001b[0;32m      6\u001b[0m \u001b[0mplt\u001b[0m\u001b[1;33m.\u001b[0m\u001b[0mshow\u001b[0m\u001b[1;33m(\u001b[0m\u001b[1;33m)\u001b[0m\u001b[1;33m\u001b[0m\u001b[1;33m\u001b[0m\u001b[0m\n",
      "\u001b[1;32m~\\anaconda3\\lib\\site-packages\\sklearn\\preprocessing\\_data.py\u001b[0m in \u001b[0;36mtransform\u001b[1;34m(self, X, copy)\u001b[0m\n\u001b[0;32m    881\u001b[0m \u001b[1;33m\u001b[0m\u001b[0m\n\u001b[0;32m    882\u001b[0m         \u001b[0mcopy\u001b[0m \u001b[1;33m=\u001b[0m \u001b[0mcopy\u001b[0m \u001b[1;32mif\u001b[0m \u001b[0mcopy\u001b[0m \u001b[1;32mis\u001b[0m \u001b[1;32mnot\u001b[0m \u001b[1;32mNone\u001b[0m \u001b[1;32melse\u001b[0m \u001b[0mself\u001b[0m\u001b[1;33m.\u001b[0m\u001b[0mcopy\u001b[0m\u001b[1;33m\u001b[0m\u001b[1;33m\u001b[0m\u001b[0m\n\u001b[1;32m--> 883\u001b[1;33m         X = self._validate_data(X, reset=False,\n\u001b[0m\u001b[0;32m    884\u001b[0m                                 \u001b[0maccept_sparse\u001b[0m\u001b[1;33m=\u001b[0m\u001b[1;34m'csr'\u001b[0m\u001b[1;33m,\u001b[0m \u001b[0mcopy\u001b[0m\u001b[1;33m=\u001b[0m\u001b[0mcopy\u001b[0m\u001b[1;33m,\u001b[0m\u001b[1;33m\u001b[0m\u001b[1;33m\u001b[0m\u001b[0m\n\u001b[0;32m    885\u001b[0m                                 \u001b[0mestimator\u001b[0m\u001b[1;33m=\u001b[0m\u001b[0mself\u001b[0m\u001b[1;33m,\u001b[0m \u001b[0mdtype\u001b[0m\u001b[1;33m=\u001b[0m\u001b[0mFLOAT_DTYPES\u001b[0m\u001b[1;33m,\u001b[0m\u001b[1;33m\u001b[0m\u001b[1;33m\u001b[0m\u001b[0m\n",
      "\u001b[1;32m~\\anaconda3\\lib\\site-packages\\sklearn\\base.py\u001b[0m in \u001b[0;36m_validate_data\u001b[1;34m(self, X, y, reset, validate_separately, **check_params)\u001b[0m\n\u001b[0;32m    435\u001b[0m \u001b[1;33m\u001b[0m\u001b[0m\n\u001b[0;32m    436\u001b[0m         \u001b[1;32mif\u001b[0m \u001b[0mcheck_params\u001b[0m\u001b[1;33m.\u001b[0m\u001b[0mget\u001b[0m\u001b[1;33m(\u001b[0m\u001b[1;34m'ensure_2d'\u001b[0m\u001b[1;33m,\u001b[0m \u001b[1;32mTrue\u001b[0m\u001b[1;33m)\u001b[0m\u001b[1;33m:\u001b[0m\u001b[1;33m\u001b[0m\u001b[1;33m\u001b[0m\u001b[0m\n\u001b[1;32m--> 437\u001b[1;33m             \u001b[0mself\u001b[0m\u001b[1;33m.\u001b[0m\u001b[0m_check_n_features\u001b[0m\u001b[1;33m(\u001b[0m\u001b[0mX\u001b[0m\u001b[1;33m,\u001b[0m \u001b[0mreset\u001b[0m\u001b[1;33m=\u001b[0m\u001b[0mreset\u001b[0m\u001b[1;33m)\u001b[0m\u001b[1;33m\u001b[0m\u001b[1;33m\u001b[0m\u001b[0m\n\u001b[0m\u001b[0;32m    438\u001b[0m \u001b[1;33m\u001b[0m\u001b[0m\n\u001b[0;32m    439\u001b[0m         \u001b[1;32mreturn\u001b[0m \u001b[0mout\u001b[0m\u001b[1;33m\u001b[0m\u001b[1;33m\u001b[0m\u001b[0m\n",
      "\u001b[1;32m~\\anaconda3\\lib\\site-packages\\sklearn\\base.py\u001b[0m in \u001b[0;36m_check_n_features\u001b[1;34m(self, X, reset)\u001b[0m\n\u001b[0;32m    363\u001b[0m \u001b[1;33m\u001b[0m\u001b[0m\n\u001b[0;32m    364\u001b[0m         \u001b[1;32mif\u001b[0m \u001b[0mn_features\u001b[0m \u001b[1;33m!=\u001b[0m \u001b[0mself\u001b[0m\u001b[1;33m.\u001b[0m\u001b[0mn_features_in_\u001b[0m\u001b[1;33m:\u001b[0m\u001b[1;33m\u001b[0m\u001b[1;33m\u001b[0m\u001b[0m\n\u001b[1;32m--> 365\u001b[1;33m             raise ValueError(\n\u001b[0m\u001b[0;32m    366\u001b[0m                 \u001b[1;34mf\"X has {n_features} features, but {self.__class__.__name__} \"\u001b[0m\u001b[1;33m\u001b[0m\u001b[1;33m\u001b[0m\u001b[0m\n\u001b[0;32m    367\u001b[0m                 f\"is expecting {self.n_features_in_} features as input.\")\n",
      "\u001b[1;31mValueError\u001b[0m: X has 2 features, but StandardScaler is expecting 5 features as input."
     ]
    }
   ],
   "source": [
    "X_set, y_set = sc.inverse_transform(x_train), y_train\n",
    "X1, X2 = np.meshgrid(np.arange(start = X_set[:, 0].min() - 10, stop = X_set[:, 0].max() + 10, step = 1),\n",
    "                     np.arange(start = X_set[:, 1].min() - 1000, stop = X_set[:, 1].max() + 1000, step = 1))\n",
    "plt.contourf(X1, X2, classifier.predict(sc.transform(np.array([X1.ravel(), X2.ravel()]).T)).reshape(X1.shape),\n",
    "           alpha = 0.75, cmap = ListedColormap(('red', 'green')))\n",
    "plt.show()"
   ]
  },
  {
   "cell_type": "code",
   "execution_count": null,
   "id": "f940d083",
   "metadata": {},
   "outputs": [],
   "source": []
  },
  {
   "cell_type": "code",
   "execution_count": null,
   "id": "7ba0b730",
   "metadata": {},
   "outputs": [],
   "source": []
  }
 ],
 "metadata": {
  "kernelspec": {
   "display_name": "Python 3",
   "language": "python",
   "name": "python3"
  },
  "language_info": {
   "codemirror_mode": {
    "name": "ipython",
    "version": 3
   },
   "file_extension": ".py",
   "mimetype": "text/x-python",
   "name": "python",
   "nbconvert_exporter": "python",
   "pygments_lexer": "ipython3",
   "version": "3.8.8"
  }
 },
 "nbformat": 4,
 "nbformat_minor": 5
}
