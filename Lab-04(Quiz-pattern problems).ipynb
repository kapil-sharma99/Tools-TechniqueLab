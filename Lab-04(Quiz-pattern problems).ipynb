{
 "cells": [
  {
   "cell_type": "markdown",
   "id": "c6da8385",
   "metadata": {},
   "source": [
    "### Pattern Type - 01"
   ]
  },
  {
   "cell_type": "code",
   "execution_count": 38,
   "id": "f98acab8",
   "metadata": {},
   "outputs": [
    {
     "name": "stdout",
     "output_type": "stream",
     "text": [
      "Enter range: 6\n",
      "* * * * * * \n",
      "* * * * * * \n",
      "* * * * * * \n",
      "* * * * * * \n",
      "* * * * * * \n",
      "* * * * * * \n"
     ]
    }
   ],
   "source": [
    "n1Type1 = int(input(\"Enter range: \"))\n",
    "for i in range(0, n1Type1):\n",
    "    for j in range(0, n1Type1):\n",
    "        print(\"* \",end=\"\")\n",
    "    print(\"\\r\")"
   ]
  },
  {
   "cell_type": "code",
   "execution_count": 44,
   "id": "2f53db12",
   "metadata": {},
   "outputs": [
    {
     "name": "stdout",
     "output_type": "stream",
     "text": [
      "Enter range: 5\n",
      "1 1 1 1 1 \n",
      "2 2 2 2 2 \n",
      "3 3 3 3 3 \n",
      "4 4 4 4 4 \n",
      "5 5 5 5 5 \n"
     ]
    }
   ],
   "source": [
    "n2Type1 = int(input(\"Enter range: \"))\n",
    "for i in range(1, n2Type1+1):\n",
    "    for j in range(1, n2Type1+1):\n",
    "        print(i, end=\" \")\n",
    "    print(\"\\r\")"
   ]
  },
  {
   "cell_type": "code",
   "execution_count": 45,
   "id": "4bff704e",
   "metadata": {},
   "outputs": [
    {
     "name": "stdout",
     "output_type": "stream",
     "text": [
      "Enter range: 5\n",
      "1 2 3 4 5 \n",
      "1 2 3 4 5 \n",
      "1 2 3 4 5 \n",
      "1 2 3 4 5 \n",
      "1 2 3 4 5 \n"
     ]
    }
   ],
   "source": [
    "n3Type1 = int(input(\"Enter range: \"))\n",
    "for i in range(1, n3Type1+1):\n",
    "    for j in range(1, n3Type1+1):\n",
    "        print(j, end=\" \")\n",
    "    print(\"\\r\")"
   ]
  },
  {
   "cell_type": "code",
   "execution_count": 48,
   "id": "55f88b09",
   "metadata": {},
   "outputs": [
    {
     "name": "stdout",
     "output_type": "stream",
     "text": [
      "Enter range: 5\n",
      "A A A A A \n",
      "B B B B B \n",
      "C C C C C \n",
      "D D D D D \n",
      "E E E E E \n"
     ]
    }
   ],
   "source": [
    "n4Type1 = int(input(\"Enter range: \"))\n",
    "for i in range(65, 65+n4Type1):\n",
    "    for j in range(65, 65+n4Type1):\n",
    "        print(chr(i), end=\" \")\n",
    "    print(\"\\r\")"
   ]
  },
  {
   "cell_type": "code",
   "execution_count": 56,
   "id": "1a5505b5",
   "metadata": {},
   "outputs": [
    {
     "name": "stdout",
     "output_type": "stream",
     "text": [
      "E E E E E \r\n",
      "D D D D D \r\n",
      "C C C C C \r\n",
      "B B B B B \r\n",
      "A A A A A \r\n"
     ]
    }
   ],
   "source": [
    "for i in reversed(range(65, 70)):\n",
    "    for j in reversed(range(65, 70)):\n",
    "        print(chr(i), end=\" \")\n",
    "    print(\"\\r\")"
   ]
  },
  {
   "cell_type": "markdown",
   "id": "ba87813e",
   "metadata": {},
   "source": [
    "### Pattern type 2"
   ]
  },
  {
   "cell_type": "code",
   "execution_count": 57,
   "id": "d1a68b1d",
   "metadata": {},
   "outputs": [
    {
     "name": "stdout",
     "output_type": "stream",
     "text": [
      "Enter the value of N: 5\n",
      "* \n",
      "* * \n",
      "* * * \n",
      "* * * * \n",
      "* * * * * \n"
     ]
    }
   ],
   "source": [
    "#*Pattern\n",
    "n1Type2 = int(input(\"Enter the value of N: \"))\n",
    "for i in range(0, n1Type2):\n",
    "    for j in range(0, i+1):\n",
    "        print(\"* \",end=\"\")\n",
    "    print(\"\\r\")"
   ]
  },
  {
   "cell_type": "code",
   "execution_count": 58,
   "id": "e296388f",
   "metadata": {},
   "outputs": [
    {
     "name": "stdout",
     "output_type": "stream",
     "text": [
      "Enter the range: 5\n",
      "1 \n",
      "2 2 \n",
      "3 3 3 \n",
      "4 4 4 4 \n",
      "5 5 5 5 5 \n"
     ]
    }
   ],
   "source": [
    "n2Type2 = int(input(\"Enter the range: \"))\n",
    "num = 1\n",
    "for i in range(0, n2Type2):\n",
    "    for j in range(0, i+1):\n",
    "        print(num,end=\" \")\n",
    "    num = num + 1\n",
    "    print(\"\\r\")"
   ]
  },
  {
   "cell_type": "code",
   "execution_count": 59,
   "id": "04f73bf3",
   "metadata": {},
   "outputs": [
    {
     "name": "stdout",
     "output_type": "stream",
     "text": [
      "Enter the range: 5\n",
      "1 \n",
      "1 2 \n",
      "1 2 3 \n",
      "1 2 3 4 \n",
      "1 2 3 4 5 \n"
     ]
    }
   ],
   "source": [
    "#12345 Pattern\n",
    "n3Type2 = int(input(\"Enter the range: \"))\n",
    "for i in range(1, n3Type2+1):\n",
    "    for j in range(1, i+1):\n",
    "        print(j,end=\" \")\n",
    "    print(\"\\r\")"
   ]
  },
  {
   "cell_type": "code",
   "execution_count": 61,
   "id": "30a4c02c",
   "metadata": {},
   "outputs": [
    {
     "name": "stdout",
     "output_type": "stream",
     "text": [
      "Enter the range: 5\n",
      "A \n",
      "A B \n",
      "A B C \n",
      "A B C D \n",
      "A B C D E \n"
     ]
    }
   ],
   "source": [
    "#12345 Pattern\n",
    "n4Type2 = int(input(\"Enter the range: \"))\n",
    "for i in range(65, 65+n4Type2):\n",
    "    for j in range(65, i+1):\n",
    "        print(chr(j),end=\" \")\n",
    "    print(\"\\r\")"
   ]
  },
  {
   "cell_type": "code",
   "execution_count": 64,
   "id": "efa9ee81",
   "metadata": {},
   "outputs": [
    {
     "name": "stdout",
     "output_type": "stream",
     "text": [
      "Enter length of String: 6\n",
      "Enter String: PRABHU\n",
      "P \n",
      "P R \n",
      "P R A \n",
      "P R A B \n",
      "P R A B H \n",
      "P R A B H U \n"
     ]
    }
   ],
   "source": [
    "n5Type2 = int(input(\"Enter length of String: \"))\n",
    "str5Type2 = input(\"Enter String: \")\n",
    "for i in range(0, n5Type2):\n",
    "    for j in range(0, i+1):\n",
    "        print(str5Type2[j], end=\" \")\n",
    "    print(\"\\r\")"
   ]
  },
  {
   "cell_type": "markdown",
   "id": "76a30440",
   "metadata": {},
   "source": [
    "### Pattern Type - 03"
   ]
  },
  {
   "cell_type": "code",
   "execution_count": 91,
   "id": "99d51993",
   "metadata": {},
   "outputs": [
    {
     "name": "stdout",
     "output_type": "stream",
     "text": [
      "Enter the value of N: 5\n",
      "* * * * * \n",
      "* * * * \n",
      "* * * \n",
      "* * \n",
      "* \n"
     ]
    }
   ],
   "source": [
    "#*Pattern\n",
    "n1Type3 = int(input(\"Enter the value of N: \"))\n",
    "for i in reversed(range(0, n1Type3)):\n",
    "    for j in reversed(range(0, i+1)):\n",
    "        print(\"* \",end=\"\")\n",
    "    print(\"\\r\")"
   ]
  },
  {
   "cell_type": "code",
   "execution_count": 92,
   "id": "bb41dd87",
   "metadata": {},
   "outputs": [
    {
     "name": "stdout",
     "output_type": "stream",
     "text": [
      "Enter the range: 5\n",
      "1 1 1 1 1 \n",
      "2 2 2 2 \n",
      "3 3 3 \n",
      "4 4 \n",
      "5 \n"
     ]
    }
   ],
   "source": [
    "n2Type3 = int(input(\"Enter the range: \"))\n",
    "num = 1\n",
    "for i in reversed(range(0, n2Type3)):\n",
    "    for j in reversed(range(0, i+1)):\n",
    "        print(num,end=\" \")\n",
    "    num = num + 1\n",
    "    print(\"\\r\")"
   ]
  },
  {
   "cell_type": "code",
   "execution_count": 93,
   "id": "c82e4656",
   "metadata": {},
   "outputs": [
    {
     "name": "stdout",
     "output_type": "stream",
     "text": [
      "Enter the range: 5\n",
      "1 2 3 4 5 \n",
      "1 2 3 4 \n",
      "1 2 3 \n",
      "1 2 \n",
      "1 \n"
     ]
    }
   ],
   "source": [
    "#12345 Pattern\n",
    "n3Type3 = int(input(\"Enter the range: \"))\n",
    "for i in reversed(range(1, n3Type3+1)):\n",
    "    for j in range(1, i+1):\n",
    "        print(j,end=\" \")\n",
    "    print(\"\\r\")"
   ]
  },
  {
   "cell_type": "code",
   "execution_count": 107,
   "id": "523d2406",
   "metadata": {},
   "outputs": [
    {
     "name": "stdout",
     "output_type": "stream",
     "text": [
      "Enter range: 5\n",
      "E E E E E \n",
      "D D D D \n",
      "C C C \n",
      "B B \n",
      "A \n"
     ]
    }
   ],
   "source": [
    "n4Type3 = int(input(\"Enter range: \"))\n",
    "count4Type3 = n4Type3\n",
    "for i in reversed(range(65, 65+n4Type1)):\n",
    "    for j in range(0, count4Type3):\n",
    "        print(chr(i), end=\" \")\n",
    "    count4Type3 = count4Type3 - 1\n",
    "    print(\"\\r\")"
   ]
  },
  {
   "cell_type": "code",
   "execution_count": 96,
   "id": "2c1637cc",
   "metadata": {},
   "outputs": [
    {
     "name": "stdout",
     "output_type": "stream",
     "text": [
      "Enter the range: 5\n",
      "A B C D E \n",
      "A B C D \n",
      "A B C \n",
      "A B \n",
      "A \n"
     ]
    }
   ],
   "source": [
    "n5Type3 = int(input(\"Enter the range: \"))\n",
    "for i in reversed(range(65, 65+n5Type3)):\n",
    "    for j in range(65, i+1):\n",
    "        print(chr(j),end=\" \")\n",
    "    print(\"\\r\")"
   ]
  },
  {
   "cell_type": "code",
   "execution_count": 97,
   "id": "d5e04d36",
   "metadata": {},
   "outputs": [
    {
     "name": "stdout",
     "output_type": "stream",
     "text": [
      "Enter the range: 5\n",
      "E E E E E \n",
      "D D D D \n",
      "C C C \n",
      "B B \n",
      "A \n"
     ]
    }
   ],
   "source": [
    "n6Type3 = int(input(\"Enter the range: \"))\n",
    "for i in reversed(range(65, 65+n6Type3)):\n",
    "    for j in range(65, i+1):\n",
    "        print(chr(i),end=\" \")\n",
    "    print(\"\\r\")"
   ]
  },
  {
   "cell_type": "code",
   "execution_count": 112,
   "id": "ea5d7c0b",
   "metadata": {},
   "outputs": [
    {
     "name": "stdout",
     "output_type": "stream",
     "text": [
      "Enter the range: 5\n",
      "E D C B A \n",
      "D C B A \n",
      "C B A \n",
      "B A \n",
      "A \n"
     ]
    }
   ],
   "source": [
    "n7Type3 = int(input(\"Enter the range: \"))\n",
    "count7Type3 = n7Type3\n",
    "for i in reversed(range(65, 65+n7Type3)):\n",
    "    for j in reversed(range(65, i+1)):\n",
    "        print(chr(j),end=\" \")\n",
    "    print(\"\\r\")"
   ]
  },
  {
   "cell_type": "code",
   "execution_count": 99,
   "id": "7ff7a1ef",
   "metadata": {},
   "outputs": [
    {
     "name": "stdout",
     "output_type": "stream",
     "text": [
      "Enter length of String: 6\n",
      "Enter String: PRABHU\n",
      "P R A B H U \n",
      "P R A B H \n",
      "P R A B \n",
      "P R A \n",
      "P R \n",
      "P \n"
     ]
    }
   ],
   "source": [
    "n8Type3 = int(input(\"Enter length of String: \"))\n",
    "str8Type3 = input(\"Enter String: \")\n",
    "for i in reversed(range(0, n8Type3)):\n",
    "    for j in range(0, i+1):\n",
    "        print(str8Type3[j], end=\" \")\n",
    "    print(\"\\r\")"
   ]
  },
  {
   "cell_type": "code",
   "execution_count": 15,
   "id": "1020a5a5",
   "metadata": {},
   "outputs": [
    {
     "name": "stdout",
     "output_type": "stream",
     "text": [
      "Enter the range: 5\n",
      "1 \n",
      "1 2 \n",
      "1 2 1 \n",
      "1 2 1 2 \n",
      "1 2 1 2 1 \n"
     ]
    }
   ],
   "source": [
    "#121 Pattern\n",
    "n2 = int(input(\"Enter the range: \"))\n",
    "for i in range(1, n2+1):\n",
    "    for j in range(1, i+1):\n",
    "        if(j%2 != 0):\n",
    "            print(\"1 \",end=\"\")\n",
    "        else:\n",
    "            print(\"2 \",end=\"\")\n",
    "    print(\"\\r\")"
   ]
  },
  {
   "cell_type": "code",
   "execution_count": 17,
   "id": "3ffdd975",
   "metadata": {},
   "outputs": [
    {
     "name": "stdout",
     "output_type": "stream",
     "text": [
      "Enter the range: 5\n",
      "1 \n",
      "2 2 \n",
      "3 3 3 \n",
      "4 4 4 4 \n",
      "5 5 5 5 5 \n"
     ]
    }
   ],
   "source": [
    "n3 = int(input(\"Enter the range: \"))\n",
    "num = 1\n",
    "for i in range(0, n3):\n",
    "    for j in range(0, i+1):\n",
    "        print(num,end=\" \")\n",
    "    num = num + 1\n",
    "    print(\"\\r\")"
   ]
  },
  {
   "cell_type": "code",
   "execution_count": 19,
   "id": "a837214c",
   "metadata": {},
   "outputs": [
    {
     "name": "stdout",
     "output_type": "stream",
     "text": [
      "Enter the range: 5\n",
      "1 \n",
      "2 3 \n",
      "4 5 6 \n",
      "7 8 9 10 \n",
      "11 12 13 14 15 \n"
     ]
    }
   ],
   "source": [
    "n4 = int(input(\"Enter the range: \"))\n",
    "num = 1\n",
    "for i in range(0, n4):\n",
    "    for j in range(0, i+1):\n",
    "        print(num,end=\" \")\n",
    "        num = num + 1\n",
    "    print(\"\\r\")"
   ]
  },
  {
   "cell_type": "code",
   "execution_count": 34,
   "id": "5b204c6c",
   "metadata": {},
   "outputs": [
    {
     "name": "stdout",
     "output_type": "stream",
     "text": [
      "Enter the range: 4\n",
      "        * \n",
      "      * * \n",
      "    * * * \n",
      "  * * * * \n"
     ]
    }
   ],
   "source": [
    "n5 = int(input(\"Enter the range: \"))\n",
    "space = 2*n - 2\n",
    "for i in range(0, n5):\n",
    "    for j in range(0, space):\n",
    "        print(end=\" \")\n",
    "    space = space - 2\n",
    "    for j in range(0, i+1):\n",
    "        print(\"* \",end=\"\")\n",
    "    print(\"\\r\")"
   ]
  },
  {
   "cell_type": "code",
   "execution_count": 36,
   "id": "8a753a1f",
   "metadata": {},
   "outputs": [
    {
     "name": "stdout",
     "output_type": "stream",
     "text": [
      "Enter the range: 5\n",
      "    * \n",
      "   * * \n",
      "  * * * \n",
      " * * * * \n",
      "* * * * * \n"
     ]
    }
   ],
   "source": [
    "n5 = int(input(\"Enter the range: \"))\n",
    "space = n - 1\n",
    "for i in range(0, n5):\n",
    "    for j in range(0, space):\n",
    "        print(end=\" \")\n",
    "    space = space - 1\n",
    "    for j in range(0, i+1):\n",
    "        print(\"* \",end=\"\")\n",
    "    print(\"\\r\")"
   ]
  },
  {
   "cell_type": "code",
   "execution_count": null,
   "id": "b4f88399",
   "metadata": {},
   "outputs": [],
   "source": []
  }
 ],
 "metadata": {
  "kernelspec": {
   "display_name": "Python 3",
   "language": "python",
   "name": "python3"
  },
  "language_info": {
   "codemirror_mode": {
    "name": "ipython",
    "version": 3
   },
   "file_extension": ".py",
   "mimetype": "text/x-python",
   "name": "python",
   "nbconvert_exporter": "python",
   "pygments_lexer": "ipython3",
   "version": "3.8.8"
  }
 },
 "nbformat": 4,
 "nbformat_minor": 5
}
