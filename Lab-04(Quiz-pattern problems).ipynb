{
 "cells": [
  {
   "cell_type": "markdown",
   "id": "dc448f7e",
   "metadata": {},
   "source": [
    "### Pattern Type - 01"
   ]
  },
  {
   "cell_type": "code",
   "execution_count": 38,
   "id": "77367591",
   "metadata": {},
   "outputs": [
    {
     "name": "stdout",
     "output_type": "stream",
     "text": [
      "Enter range: 6\n",
      "* * * * * * \n",
      "* * * * * * \n",
      "* * * * * * \n",
      "* * * * * * \n",
      "* * * * * * \n",
      "* * * * * * \n"
     ]
    }
   ],
   "source": [
    "n1Type1 = int(input(\"Enter range: \"))\n",
    "for i in range(0, n1Type1):\n",
    "    for j in range(0, n1Type1):\n",
    "        print(\"* \",end=\"\")\n",
    "    print(\"\\r\")"
   ]
  },
  {
   "cell_type": "code",
   "execution_count": 44,
   "id": "6c67a468",
   "metadata": {},
   "outputs": [
    {
     "name": "stdout",
     "output_type": "stream",
     "text": [
      "Enter range: 5\n",
      "1 1 1 1 1 \n",
      "2 2 2 2 2 \n",
      "3 3 3 3 3 \n",
      "4 4 4 4 4 \n",
      "5 5 5 5 5 \n"
     ]
    }
   ],
   "source": [
    "n2Type1 = int(input(\"Enter range: \"))\n",
    "for i in range(1, n2Type1+1):\n",
    "    for j in range(1, n2Type1+1):\n",
    "        print(i, end=\" \")\n",
    "    print(\"\\r\")"
   ]
  },
  {
   "cell_type": "code",
   "execution_count": 45,
   "id": "43d70e3b",
   "metadata": {},
   "outputs": [
    {
     "name": "stdout",
     "output_type": "stream",
     "text": [
      "Enter range: 5\n",
      "1 2 3 4 5 \n",
      "1 2 3 4 5 \n",
      "1 2 3 4 5 \n",
      "1 2 3 4 5 \n",
      "1 2 3 4 5 \n"
     ]
    }
   ],
   "source": [
    "n3Type1 = int(input(\"Enter range: \"))\n",
    "for i in range(1, n3Type1+1):\n",
    "    for j in range(1, n3Type1+1):\n",
    "        print(j, end=\" \")\n",
    "    print(\"\\r\")"
   ]
  },
  {
   "cell_type": "code",
   "execution_count": 48,
   "id": "40245b72",
   "metadata": {},
   "outputs": [
    {
     "name": "stdout",
     "output_type": "stream",
     "text": [
      "Enter range: 5\n",
      "A A A A A \n",
      "B B B B B \n",
      "C C C C C \n",
      "D D D D D \n",
      "E E E E E \n"
     ]
    }
   ],
   "source": [
    "n4Type1 = int(input(\"Enter range: \"))\n",
    "for i in range(65, 65+n4Type1):\n",
    "    for j in range(65, 65+n4Type1):\n",
    "        print(chr(i), end=\" \")\n",
    "    print(\"\\r\")"
   ]
  },
  {
   "cell_type": "code",
   "execution_count": 56,
   "id": "90653e9a",
   "metadata": {},
   "outputs": [
    {
     "name": "stdout",
     "output_type": "stream",
     "text": [
      "E E E E E \r\n",
      "D D D D D \r\n",
      "C C C C C \r\n",
      "B B B B B \r\n",
      "A A A A A \r\n"
     ]
    }
   ],
   "source": [
    "for i in reversed(range(65, 70)):\n",
    "    for j in reversed(range(65, 70)):\n",
    "        print(chr(i), end=\" \")\n",
    "    print(\"\\r\")"
   ]
  },
  {
   "cell_type": "markdown",
   "id": "ee37e5ae",
   "metadata": {},
   "source": [
    "### Pattern type 2"
   ]
  },
  {
   "cell_type": "code",
   "execution_count": 57,
   "id": "d1a68b1d",
   "metadata": {},
   "outputs": [
    {
     "name": "stdout",
     "output_type": "stream",
     "text": [
      "Enter the value of N: 5\n",
      "* \n",
      "* * \n",
      "* * * \n",
      "* * * * \n",
      "* * * * * \n"
     ]
    }
   ],
   "source": [
    "#*Pattern\n",
    "n1Type2 = int(input(\"Enter the value of N: \"))\n",
    "for i in range(0, n1Type2):\n",
    "    for j in range(0, i+1):\n",
    "        print(\"* \",end=\"\")\n",
    "    print(\"\\r\")"
   ]
  },
  {
   "cell_type": "code",
   "execution_count": 58,
   "id": "9f24917a",
   "metadata": {},
   "outputs": [
    {
     "name": "stdout",
     "output_type": "stream",
     "text": [
      "Enter the range: 5\n",
      "1 \n",
      "2 2 \n",
      "3 3 3 \n",
      "4 4 4 4 \n",
      "5 5 5 5 5 \n"
     ]
    }
   ],
   "source": [
    "n2Type2 = int(input(\"Enter the range: \"))\n",
    "num = 1\n",
    "for i in range(0, n2Type2):\n",
    "    for j in range(0, i+1):\n",
    "        print(num,end=\" \")\n",
    "    num = num + 1\n",
    "    print(\"\\r\")"
   ]
  },
  {
   "cell_type": "code",
   "execution_count": 59,
   "id": "04f73bf3",
   "metadata": {},
   "outputs": [
    {
     "name": "stdout",
     "output_type": "stream",
     "text": [
      "Enter the range: 5\n",
      "1 \n",
      "1 2 \n",
      "1 2 3 \n",
      "1 2 3 4 \n",
      "1 2 3 4 5 \n"
     ]
    }
   ],
   "source": [
    "#12345 Pattern\n",
    "n3Type2 = int(input(\"Enter the range: \"))\n",
    "for i in range(1, n3Type2+1):\n",
    "    for j in range(1, i+1):\n",
    "        print(j,end=\" \")\n",
    "    print(\"\\r\")"
   ]
  },
  {
   "cell_type": "code",
   "execution_count": 61,
   "id": "d077c75e",
   "metadata": {},
   "outputs": [
    {
     "name": "stdout",
     "output_type": "stream",
     "text": [
      "Enter the range: 5\n",
      "A \n",
      "A B \n",
      "A B C \n",
      "A B C D \n",
      "A B C D E \n"
     ]
    }
   ],
   "source": [
    "#12345 Pattern\n",
    "n4Type2 = int(input(\"Enter the range: \"))\n",
    "for i in range(65, 65+n4Type2):\n",
    "    for j in range(65, i+1):\n",
    "        print(chr(j),end=\" \")\n",
    "    print(\"\\r\")"
   ]
  },
  {
   "cell_type": "code",
   "execution_count": 62,
   "id": "0ee59f21",
   "metadata": {},
   "outputs": [
    {
     "name": "stdout",
     "output_type": "stream",
     "text": [
      "Enter length of String: 5\n",
      "Enter String: Kapil\n",
      "\n",
      "K\n",
      "\n",
      "K\n",
      "a\n",
      "\n",
      "K\n",
      "a\n",
      "p\n",
      "\n",
      "K\n",
      "a\n",
      "p\n",
      "i\n",
      "\n"
     ]
    }
   ],
   "source": [
    "n5Type2 = int(input(\"Enter length of String: \"))\n",
    "str5Type2 = input(\"Enter String: \")\n",
    "for i in range(0, n5Type2):\n",
    "    for j in range(0, i):\n",
    "        print(str5Type2[j])\n",
    "    print(\"\\r\")"
   ]
  },
  {
   "cell_type": "code",
   "execution_count": 15,
   "id": "1020a5a5",
   "metadata": {},
   "outputs": [
    {
     "name": "stdout",
     "output_type": "stream",
     "text": [
      "Enter the range: 5\n",
      "1 \n",
      "1 2 \n",
      "1 2 1 \n",
      "1 2 1 2 \n",
      "1 2 1 2 1 \n"
     ]
    }
   ],
   "source": [
    "#121 Pattern\n",
    "n2 = int(input(\"Enter the range: \"))\n",
    "for i in range(1, n2+1):\n",
    "    for j in range(1, i+1):\n",
    "        if(j%2 != 0):\n",
    "            print(\"1 \",end=\"\")\n",
    "        else:\n",
    "            print(\"2 \",end=\"\")\n",
    "    print(\"\\r\")"
   ]
  },
  {
   "cell_type": "code",
   "execution_count": 17,
   "id": "3ffdd975",
   "metadata": {},
   "outputs": [
    {
     "name": "stdout",
     "output_type": "stream",
     "text": [
      "Enter the range: 5\n",
      "1 \n",
      "2 2 \n",
      "3 3 3 \n",
      "4 4 4 4 \n",
      "5 5 5 5 5 \n"
     ]
    }
   ],
   "source": [
    "n3 = int(input(\"Enter the range: \"))\n",
    "num = 1\n",
    "for i in range(0, n3):\n",
    "    for j in range(0, i+1):\n",
    "        print(num,end=\" \")\n",
    "    num = num + 1\n",
    "    print(\"\\r\")"
   ]
  },
  {
   "cell_type": "code",
   "execution_count": 19,
   "id": "a837214c",
   "metadata": {},
   "outputs": [
    {
     "name": "stdout",
     "output_type": "stream",
     "text": [
      "Enter the range: 5\n",
      "1 \n",
      "2 3 \n",
      "4 5 6 \n",
      "7 8 9 10 \n",
      "11 12 13 14 15 \n"
     ]
    }
   ],
   "source": [
    "n4 = int(input(\"Enter the range: \"))\n",
    "num = 1\n",
    "for i in range(0, n4):\n",
    "    for j in range(0, i+1):\n",
    "        print(num,end=\" \")\n",
    "        num = num + 1\n",
    "    print(\"\\r\")"
   ]
  },
  {
   "cell_type": "code",
   "execution_count": 34,
   "id": "5b204c6c",
   "metadata": {},
   "outputs": [
    {
     "name": "stdout",
     "output_type": "stream",
     "text": [
      "Enter the range: 4\n",
      "        * \n",
      "      * * \n",
      "    * * * \n",
      "  * * * * \n"
     ]
    }
   ],
   "source": [
    "n5 = int(input(\"Enter the range: \"))\n",
    "space = 2*n - 2\n",
    "for i in range(0, n5):\n",
    "    for j in range(0, space):\n",
    "        print(end=\" \")\n",
    "    space = space - 2\n",
    "    for j in range(0, i+1):\n",
    "        print(\"* \",end=\"\")\n",
    "    print(\"\\r\")"
   ]
  },
  {
   "cell_type": "code",
   "execution_count": 36,
   "id": "8a753a1f",
   "metadata": {},
   "outputs": [
    {
     "name": "stdout",
     "output_type": "stream",
     "text": [
      "Enter the range: 5\n",
      "    * \n",
      "   * * \n",
      "  * * * \n",
      " * * * * \n",
      "* * * * * \n"
     ]
    }
   ],
   "source": [
    "n5 = int(input(\"Enter the range: \"))\n",
    "space = n - 1\n",
    "for i in range(0, n5):\n",
    "    for j in range(0, space):\n",
    "        print(end=\" \")\n",
    "    space = space - 1\n",
    "    for j in range(0, i+1):\n",
    "        print(\"* \",end=\"\")\n",
    "    print(\"\\r\")"
   ]
  },
  {
   "cell_type": "code",
   "execution_count": null,
   "id": "b4f88399",
   "metadata": {},
   "outputs": [],
   "source": []
  }
 ],
 "metadata": {
  "kernelspec": {
   "display_name": "Python 3",
   "language": "python",
   "name": "python3"
  },
  "language_info": {
   "codemirror_mode": {
    "name": "ipython",
    "version": 3
   },
   "file_extension": ".py",
   "mimetype": "text/x-python",
   "name": "python",
   "nbconvert_exporter": "python",
   "pygments_lexer": "ipython3",
   "version": "3.8.8"
  }
 },
 "nbformat": 4,
 "nbformat_minor": 5
}
