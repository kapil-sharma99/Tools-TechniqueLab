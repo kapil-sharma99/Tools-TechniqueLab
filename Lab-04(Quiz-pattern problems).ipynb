{
 "cells": [
  {
   "cell_type": "markdown",
   "id": "050ebef6",
   "metadata": {},
   "source": [
    "### Pattern Type - 01"
   ]
  },
  {
   "cell_type": "code",
   "execution_count": 38,
   "id": "9083ff20",
   "metadata": {},
   "outputs": [
    {
     "name": "stdout",
     "output_type": "stream",
     "text": [
      "Enter range: 6\n",
      "* * * * * * \n",
      "* * * * * * \n",
      "* * * * * * \n",
      "* * * * * * \n",
      "* * * * * * \n",
      "* * * * * * \n"
     ]
    }
   ],
   "source": [
    "#Pattern - 01\n",
    "n1Type1 = int(input(\"Enter range: \"))\n",
    "for i in range(0, n1Type1):\n",
    "    for j in range(0, n1Type1):\n",
    "        print(\"* \",end=\"\")\n",
    "    print(\"\\r\")"
   ]
  },
  {
   "cell_type": "code",
   "execution_count": 44,
   "id": "a284212c",
   "metadata": {},
   "outputs": [
    {
     "name": "stdout",
     "output_type": "stream",
     "text": [
      "Enter range: 5\n",
      "1 1 1 1 1 \n",
      "2 2 2 2 2 \n",
      "3 3 3 3 3 \n",
      "4 4 4 4 4 \n",
      "5 5 5 5 5 \n"
     ]
    }
   ],
   "source": [
    "#Pattern - 02\n",
    "n2Type1 = int(input(\"Enter range: \"))\n",
    "for i in range(1, n2Type1+1):\n",
    "    for j in range(1, n2Type1+1):\n",
    "        print(i, end=\" \")\n",
    "    print(\"\\r\")"
   ]
  },
  {
   "cell_type": "code",
   "execution_count": 45,
   "id": "cdfde7d7",
   "metadata": {},
   "outputs": [
    {
     "name": "stdout",
     "output_type": "stream",
     "text": [
      "Enter range: 5\n",
      "1 2 3 4 5 \n",
      "1 2 3 4 5 \n",
      "1 2 3 4 5 \n",
      "1 2 3 4 5 \n",
      "1 2 3 4 5 \n"
     ]
    }
   ],
   "source": [
    "#Pattern - 03\n",
    "n3Type1 = int(input(\"Enter range: \"))\n",
    "for i in range(1, n3Type1+1):\n",
    "    for j in range(1, n3Type1+1):\n",
    "        print(j, end=\" \")\n",
    "    print(\"\\r\")"
   ]
  },
  {
   "cell_type": "code",
   "execution_count": 140,
   "id": "17c109b9",
   "metadata": {},
   "outputs": [
    {
     "name": "stdout",
     "output_type": "stream",
     "text": [
      "Enter range: 5\n",
      "5 5 5 5 5 \n",
      "4 4 4 4 4 \n",
      "3 3 3 3 3 \n",
      "2 2 2 2 2 \n",
      "1 1 1 1 1 \n"
     ]
    }
   ],
   "source": [
    "#Pattern - 4\n",
    "n2Type1 = int(input(\"Enter range: \"))\n",
    "for i in reversed(range(1, n2Type1+1)):\n",
    "    for j in range(1, n2Type1+1):\n",
    "        print(i, end=\" \")\n",
    "    print(\"\\r\")"
   ]
  },
  {
   "cell_type": "code",
   "execution_count": 48,
   "id": "e8e0c4f3",
   "metadata": {},
   "outputs": [
    {
     "name": "stdout",
     "output_type": "stream",
     "text": [
      "Enter range: 5\n",
      "A A A A A \n",
      "B B B B B \n",
      "C C C C C \n",
      "D D D D D \n",
      "E E E E E \n"
     ]
    }
   ],
   "source": [
    "#Pattern - 05\n",
    "n4Type1 = int(input(\"Enter range: \"))\n",
    "for i in range(65, 65+n4Type1):\n",
    "    for j in range(65, 65+n4Type1):\n",
    "        print(chr(i), end=\" \")\n",
    "    print(\"\\r\")"
   ]
  },
  {
   "cell_type": "code",
   "execution_count": 56,
   "id": "a859be9a",
   "metadata": {},
   "outputs": [
    {
     "name": "stdout",
     "output_type": "stream",
     "text": [
      "E E E E E \r\n",
      "D D D D D \r\n",
      "C C C C C \r\n",
      "B B B B B \r\n",
      "A A A A A \r\n"
     ]
    }
   ],
   "source": [
    "#Pattern - 06\n",
    "for i in reversed(range(65, 70)):\n",
    "    for j in reversed(range(65, 70)):\n",
    "        print(chr(i), end=\" \")\n",
    "    print(\"\\r\")"
   ]
  },
  {
   "cell_type": "markdown",
   "id": "e8b6f94b",
   "metadata": {},
   "source": [
    "### Pattern type 2"
   ]
  },
  {
   "cell_type": "code",
   "execution_count": 57,
   "id": "d1a68b1d",
   "metadata": {},
   "outputs": [
    {
     "name": "stdout",
     "output_type": "stream",
     "text": [
      "Enter the value of N: 5\n",
      "* \n",
      "* * \n",
      "* * * \n",
      "* * * * \n",
      "* * * * * \n"
     ]
    }
   ],
   "source": [
    "#Pattern - 01\n",
    "n1Type2 = int(input(\"Enter the value of N: \"))\n",
    "for i in range(0, n1Type2):\n",
    "    for j in range(0, i+1):\n",
    "        print(\"* \",end=\"\")\n",
    "    print(\"\\r\")"
   ]
  },
  {
   "cell_type": "code",
   "execution_count": 58,
   "id": "b7d4305c",
   "metadata": {},
   "outputs": [
    {
     "name": "stdout",
     "output_type": "stream",
     "text": [
      "Enter the range: 5\n",
      "1 \n",
      "2 2 \n",
      "3 3 3 \n",
      "4 4 4 4 \n",
      "5 5 5 5 5 \n"
     ]
    }
   ],
   "source": [
    "#Pattern - 02\n",
    "n2Type2 = int(input(\"Enter the range: \"))\n",
    "num = 1\n",
    "for i in range(0, n2Type2):\n",
    "    for j in range(0, i+1):\n",
    "        print(num,end=\" \")\n",
    "    num = num + 1\n",
    "    print(\"\\r\")"
   ]
  },
  {
   "cell_type": "code",
   "execution_count": 59,
   "id": "04f73bf3",
   "metadata": {},
   "outputs": [
    {
     "name": "stdout",
     "output_type": "stream",
     "text": [
      "Enter the range: 5\n",
      "1 \n",
      "1 2 \n",
      "1 2 3 \n",
      "1 2 3 4 \n",
      "1 2 3 4 5 \n"
     ]
    }
   ],
   "source": [
    "#Pattern - 03\n",
    "n3Type2 = int(input(\"Enter the range: \"))\n",
    "for i in range(1, n3Type2+1):\n",
    "    for j in range(1, i+1):\n",
    "        print(j,end=\" \")\n",
    "    print(\"\\r\")"
   ]
  },
  {
   "cell_type": "code",
   "execution_count": 61,
   "id": "333d3193",
   "metadata": {},
   "outputs": [
    {
     "name": "stdout",
     "output_type": "stream",
     "text": [
      "Enter the range: 5\n",
      "A \n",
      "A B \n",
      "A B C \n",
      "A B C D \n",
      "A B C D E \n"
     ]
    }
   ],
   "source": [
    "#Pattern - 04\n",
    "n4Type2 = int(input(\"Enter the range: \"))\n",
    "for i in range(65, 65+n4Type2):\n",
    "    for j in range(65, i+1):\n",
    "        print(chr(j),end=\" \")\n",
    "    print(\"\\r\")"
   ]
  },
  {
   "cell_type": "code",
   "execution_count": 141,
   "id": "7611ca8a",
   "metadata": {},
   "outputs": [
    {
     "name": "stdout",
     "output_type": "stream",
     "text": [
      "Enter the range: 5\n",
      "A \n",
      "B B \n",
      "C C C \n",
      "D D D D \n",
      "E E E E E \n"
     ]
    }
   ],
   "source": [
    "#Pattern - 05\n",
    "n4Type2 = int(input(\"Enter the range: \"))\n",
    "for i in range(65, 65+n4Type2):\n",
    "    for j in range(65, i+1):\n",
    "        print(chr(i),end=\" \")\n",
    "    print(\"\\r\")"
   ]
  },
  {
   "cell_type": "code",
   "execution_count": 64,
   "id": "800dfc5c",
   "metadata": {},
   "outputs": [
    {
     "name": "stdout",
     "output_type": "stream",
     "text": [
      "Enter length of String: 6\n",
      "Enter String: PRABHU\n",
      "P \n",
      "P R \n",
      "P R A \n",
      "P R A B \n",
      "P R A B H \n",
      "P R A B H U \n"
     ]
    }
   ],
   "source": [
    "#Pattern - 06\n",
    "n5Type2 = int(input(\"Enter length of String: \"))\n",
    "str5Type2 = input(\"Enter String: \")\n",
    "for i in range(0, n5Type2):\n",
    "    for j in range(0, i+1):\n",
    "        print(str5Type2[j], end=\" \")\n",
    "    print(\"\\r\")"
   ]
  },
  {
   "cell_type": "markdown",
   "id": "8a569801",
   "metadata": {},
   "source": [
    "### Pattern Type - 03"
   ]
  },
  {
   "cell_type": "code",
   "execution_count": 91,
   "id": "9e97591b",
   "metadata": {},
   "outputs": [
    {
     "name": "stdout",
     "output_type": "stream",
     "text": [
      "Enter the value of N: 5\n",
      "* * * * * \n",
      "* * * * \n",
      "* * * \n",
      "* * \n",
      "* \n"
     ]
    }
   ],
   "source": [
    "#Pattern - 01\n",
    "n1Type3 = int(input(\"Enter the value of N: \"))\n",
    "for i in reversed(range(0, n1Type3)):\n",
    "    for j in reversed(range(0, i+1)):\n",
    "        print(\"* \",end=\"\")\n",
    "    print(\"\\r\")"
   ]
  },
  {
   "cell_type": "code",
   "execution_count": 92,
   "id": "1fec929c",
   "metadata": {},
   "outputs": [
    {
     "name": "stdout",
     "output_type": "stream",
     "text": [
      "Enter the range: 5\n",
      "1 1 1 1 1 \n",
      "2 2 2 2 \n",
      "3 3 3 \n",
      "4 4 \n",
      "5 \n"
     ]
    }
   ],
   "source": [
    "#Pattern - 02\n",
    "n2Type3 = int(input(\"Enter the range: \"))\n",
    "num = 1\n",
    "for i in reversed(range(0, n2Type3)):\n",
    "    for j in reversed(range(0, i+1)):\n",
    "        print(num,end=\" \")\n",
    "    num = num + 1\n",
    "    print(\"\\r\")"
   ]
  },
  {
   "cell_type": "code",
   "execution_count": 93,
   "id": "f3e6209e",
   "metadata": {},
   "outputs": [
    {
     "name": "stdout",
     "output_type": "stream",
     "text": [
      "Enter the range: 5\n",
      "1 2 3 4 5 \n",
      "1 2 3 4 \n",
      "1 2 3 \n",
      "1 2 \n",
      "1 \n"
     ]
    }
   ],
   "source": [
    "#Pattern - 03\n",
    "n3Type3 = int(input(\"Enter the range: \"))\n",
    "for i in reversed(range(1, n3Type3+1)):\n",
    "    for j in range(1, i+1):\n",
    "        print(j,end=\" \")\n",
    "    print(\"\\r\")"
   ]
  },
  {
   "cell_type": "code",
   "execution_count": 143,
   "id": "16365043",
   "metadata": {},
   "outputs": [
    {
     "name": "stdout",
     "output_type": "stream",
     "text": [
      "Enter range: 5\n",
      "A A A A A \n",
      "B B B B \n",
      "C C C \n",
      "D D \n",
      "E \n"
     ]
    }
   ],
   "source": [
    "#Pattern - 04\n",
    "n4Type3 = int(input(\"Enter range: \"))\n",
    "count4Type3 = n4Type3\n",
    "for i in range(65, 65+n4Type1):\n",
    "    for j in range(0, count4Type3):\n",
    "        print(chr(i), end=\" \")\n",
    "    count4Type3 = count4Type3 - 1\n",
    "    print(\"\\r\")"
   ]
  },
  {
   "cell_type": "code",
   "execution_count": 96,
   "id": "4e0a0ecc",
   "metadata": {},
   "outputs": [
    {
     "name": "stdout",
     "output_type": "stream",
     "text": [
      "Enter the range: 5\n",
      "A B C D E \n",
      "A B C D \n",
      "A B C \n",
      "A B \n",
      "A \n"
     ]
    }
   ],
   "source": [
    "#Pattern - 05\n",
    "n5Type3 = int(input(\"Enter the range: \"))\n",
    "for i in reversed(range(65, 65+n5Type3)):\n",
    "    for j in range(65, i+1):\n",
    "        print(chr(j),end=\" \")\n",
    "    print(\"\\r\")"
   ]
  },
  {
   "cell_type": "code",
   "execution_count": 97,
   "id": "e9476861",
   "metadata": {},
   "outputs": [
    {
     "name": "stdout",
     "output_type": "stream",
     "text": [
      "Enter the range: 5\n",
      "E E E E E \n",
      "D D D D \n",
      "C C C \n",
      "B B \n",
      "A \n"
     ]
    }
   ],
   "source": [
    "#Pattern - 06\n",
    "n6Type3 = int(input(\"Enter the range: \"))\n",
    "for i in reversed(range(65, 65+n6Type3)):\n",
    "    for j in range(65, i+1):\n",
    "        print(chr(i),end=\" \")\n",
    "    print(\"\\r\")"
   ]
  },
  {
   "cell_type": "code",
   "execution_count": 112,
   "id": "5b772d53",
   "metadata": {},
   "outputs": [
    {
     "name": "stdout",
     "output_type": "stream",
     "text": [
      "Enter the range: 5\n",
      "E D C B A \n",
      "D C B A \n",
      "C B A \n",
      "B A \n",
      "A \n"
     ]
    }
   ],
   "source": [
    "#Pattern - 07\n",
    "n7Type3 = int(input(\"Enter the range: \"))\n",
    "count7Type3 = n7Type3\n",
    "for i in reversed(range(65, 65+n7Type3)):\n",
    "    for j in reversed(range(65, i+1)):\n",
    "        print(chr(j),end=\" \")\n",
    "    print(\"\\r\")"
   ]
  },
  {
   "cell_type": "code",
   "execution_count": 99,
   "id": "af7e9482",
   "metadata": {},
   "outputs": [
    {
     "name": "stdout",
     "output_type": "stream",
     "text": [
      "Enter length of String: 6\n",
      "Enter String: PRABHU\n",
      "P R A B H U \n",
      "P R A B H \n",
      "P R A B \n",
      "P R A \n",
      "P R \n",
      "P \n"
     ]
    }
   ],
   "source": [
    "#Pattern - 08\n",
    "n8Type3 = int(input(\"Enter length of String: \"))\n",
    "str8Type3 = input(\"Enter String: \")\n",
    "for i in reversed(range(0, n8Type3)):\n",
    "    for j in range(0, i+1):\n",
    "        print(str8Type3[j], end=\" \")\n",
    "    print(\"\\r\")"
   ]
  },
  {
   "cell_type": "markdown",
   "id": "eb4a81d7",
   "metadata": {},
   "source": [
    "### Pattern type 4"
   ]
  },
  {
   "cell_type": "code",
   "execution_count": 113,
   "id": "848ad396",
   "metadata": {},
   "outputs": [
    {
     "name": "stdout",
     "output_type": "stream",
     "text": [
      "Enter the range: 5\n",
      "        * \n",
      "      * * \n",
      "    * * * \n",
      "  * * * * \n",
      "* * * * * \n"
     ]
    }
   ],
   "source": [
    "#Pattern - 01\n",
    "n1Type4 = int(input(\"Enter the range: \"))\n",
    "space1Type4 = 2*n1Type4 - 2\n",
    "for i in range(0, n1Type4):\n",
    "    for j in range(0, space1Type4):\n",
    "        print(end=\" \")\n",
    "    space1Type4 = space1Type4 - 2\n",
    "    for j in range(0, i+1):\n",
    "        print(\"* \",end=\"\")\n",
    "    print(\"\\r\")"
   ]
  },
  {
   "cell_type": "code",
   "execution_count": 115,
   "id": "9bb81ab0",
   "metadata": {},
   "outputs": [
    {
     "name": "stdout",
     "output_type": "stream",
     "text": [
      "Enter the range: 5\n",
      "        1 \n",
      "      2 2 \n",
      "    3 3 3 \n",
      "  4 4 4 4 \n",
      "5 5 5 5 5 \n"
     ]
    }
   ],
   "source": [
    "#Pattern - 02\n",
    "n2Type4 = int(input(\"Enter the range: \"))\n",
    "space2Type4 = 2*n2Type4 - 2\n",
    "num2Type4 = 1\n",
    "for i in range(0, n2Type4):\n",
    "    for j in range(0, space2Type4):\n",
    "        print(end=\" \")\n",
    "    space2Type4 = space2Type4 - 2\n",
    "    for j in range(0, i+1):\n",
    "        print(num2Type4,end=\" \")\n",
    "    num2Type4 = num2Type4 + 1\n",
    "    print(\"\\r\")"
   ]
  },
  {
   "cell_type": "code",
   "execution_count": 120,
   "id": "1020a5a5",
   "metadata": {},
   "outputs": [
    {
     "name": "stdout",
     "output_type": "stream",
     "text": [
      "Enter the range: 6\n",
      "          1 \n",
      "        1 2 \n",
      "      1 2 3 \n",
      "    1 2 3 4 \n",
      "  1 2 3 4 5 \n",
      "1 2 3 4 5 6 \n"
     ]
    }
   ],
   "source": [
    "#Pattern - 03\n",
    "n3Type4 = int(input(\"Enter the range: \"))\n",
    "space3Type4 = 2*n3Type4 - 2\n",
    "num3Type4 = 1\n",
    "for i in range(0, n3Type4):\n",
    "    for j in range(0, space3Type4):\n",
    "        print(end=\" \")\n",
    "    space3Type4 = space3Type4 - 2\n",
    "    for j in range(0, i+1):\n",
    "        print(j+1,end=\" \")\n",
    "    num3Type4 = num3Type4 + 1\n",
    "    print(\"\\r\")"
   ]
  },
  {
   "cell_type": "code",
   "execution_count": 125,
   "id": "3ffdd975",
   "metadata": {},
   "outputs": [
    {
     "name": "stdout",
     "output_type": "stream",
     "text": [
      "Enter the range: 5\n",
      "        A \n",
      "      A B \n",
      "    A B C \n",
      "  A B C D \n",
      "A B C D E \n"
     ]
    }
   ],
   "source": [
    "#Pattern - 04\n",
    "n4Type4 = int(input(\"Enter the range: \"))\n",
    "space4Type4 = 2*n4Type4 - 2\n",
    "num4Type4 = 1\n",
    "for i in range(0, n4Type4):\n",
    "    for j in range(0, space4Type4):\n",
    "        print(end=\" \")\n",
    "    space4Type4 = space4Type4 - 2\n",
    "    for j in range(65, 65+i+1):\n",
    "        print(chr(j),end=\" \")\n",
    "    num4Type4 = num4Type4 + 1\n",
    "    print(\"\\r\")"
   ]
  },
  {
   "cell_type": "code",
   "execution_count": 129,
   "id": "a837214c",
   "metadata": {},
   "outputs": [
    {
     "name": "stdout",
     "output_type": "stream",
     "text": [
      "Enter the range: 5\n",
      "        A \n",
      "      B B \n",
      "    C C C \n",
      "  D D D D \n",
      "E E E E E \n"
     ]
    }
   ],
   "source": [
    "#Pattern - 05\n",
    "n5Type4 = int(input(\"Enter the range: \"))\n",
    "space5Type4 = 2*n5Type4 - 2\n",
    "for i in range(65, 65+n5Type4):\n",
    "    for j in range(0, space5Type4):\n",
    "        print(end=\" \")\n",
    "    space5Type4 = space5Type4 - 2\n",
    "    for j in range(65, i+1):\n",
    "        print(chr(i),end=\" \")\n",
    "    print(\"\\r\")"
   ]
  },
  {
   "cell_type": "code",
   "execution_count": 134,
   "id": "5b204c6c",
   "metadata": {},
   "outputs": [
    {
     "name": "stdout",
     "output_type": "stream",
     "text": [
      "Enter length of String: 6\n",
      "Enter String: PRABHU\n",
      "          P \n",
      "        P R \n",
      "      P R A \n",
      "    P R A B \n",
      "  P R A B H \n",
      "P R A B H U \n"
     ]
    }
   ],
   "source": [
    "#Pattern - 06\n",
    "n6Type4 = int(input(\"Enter length of String: \"))\n",
    "str6Type4 = input(\"Enter String: \")\n",
    "space6Type4 = 2*n6Type4 - 2\n",
    "for i in range(0, n6Type4):\n",
    "    for j in range(0, space6Type4):\n",
    "        print(end=\" \")\n",
    "    space6Type4 = space6Type4 - 2\n",
    "    for j in range(0, i+1):\n",
    "        print(str6Type4[j], end=\" \")\n",
    "    print(\"\\r\")"
   ]
  },
  {
   "cell_type": "markdown",
   "id": "e95d17d0",
   "metadata": {},
   "source": [
    "### Pattern Type - 05"
   ]
  },
  {
   "cell_type": "code",
   "execution_count": 164,
   "id": "ad058082",
   "metadata": {},
   "outputs": [
    {
     "name": "stdout",
     "output_type": "stream",
     "text": [
      "* * * * * \n",
      "  * * * * \n",
      "    * * * \n",
      "      * * \n",
      "        * \n"
     ]
    }
   ],
   "source": [
    "#Pattern - 01\n",
    "for i in range(5,0,-1):\n",
    "    for j in range(i,5):\n",
    "        print(\" \",end=\" \")\n",
    "    for k in range(0, i):\n",
    "        print(\"*\",end=\" \")\n",
    "    print()"
   ]
  },
  {
   "cell_type": "code",
   "execution_count": 165,
   "id": "8a753a1f",
   "metadata": {},
   "outputs": [
    {
     "name": "stdout",
     "output_type": "stream",
     "text": [
      "5 5 5 5 5 \n",
      "  4 4 4 4 \n",
      "    3 3 3 \n",
      "      2 2 \n",
      "        1 \n"
     ]
    }
   ],
   "source": [
    "#Pattern - 02\n",
    "for i in range(5,0,-1):\n",
    "    for j in range(i,5):\n",
    "        print(\" \",end=\" \")\n",
    "    for k in range(0, i):\n",
    "        print(i,end=\" \")\n",
    "    print()"
   ]
  },
  {
   "cell_type": "code",
   "execution_count": 166,
   "id": "b4f88399",
   "metadata": {},
   "outputs": [
    {
     "name": "stdout",
     "output_type": "stream",
     "text": [
      "1 2 3 4 5 \n",
      "  1 2 3 4 \n",
      "    1 2 3 \n",
      "      1 2 \n",
      "        1 \n"
     ]
    }
   ],
   "source": [
    "#Pattern - 03\n",
    "for i in range(5,0,-1):\n",
    "    for j in range(i,5):\n",
    "        print(\" \",end=\" \")\n",
    "    for k in range(1, i+1):\n",
    "        print(k,end=\" \")\n",
    "    print()"
   ]
  },
  {
   "cell_type": "code",
   "execution_count": 167,
   "id": "348e7e94",
   "metadata": {},
   "outputs": [
    {
     "name": "stdout",
     "output_type": "stream",
     "text": [
      "E E E E E \n",
      "  D D D D \n",
      "    C C C \n",
      "      B B \n",
      "        A \n"
     ]
    }
   ],
   "source": [
    "#Pattern - 04\n",
    "st  = 64\n",
    "for i in range(5,0,-1):\n",
    "    for j in range(i,5):\n",
    "        print(\" \",end=\" \")\n",
    "    for k in range(0, i):\n",
    "        print(chr(st+i),end=\" \")\n",
    "    print()"
   ]
  },
  {
   "cell_type": "code",
   "execution_count": 168,
   "id": "3917e6e8",
   "metadata": {},
   "outputs": [
    {
     "name": "stdout",
     "output_type": "stream",
     "text": [
      "A B C D E \n",
      "  A B C D \n",
      "    A B C \n",
      "      A B \n",
      "        A \n"
     ]
    }
   ],
   "source": [
    "#Pattern - 05\n",
    "st  = 65\n",
    "for i in range(5,0,-1):\n",
    "    for j in range(i,5):\n",
    "        print(\" \",end=\" \")\n",
    "    for k in range(0, i):\n",
    "        print(chr(st+k),end=\" \")\n",
    "    print()"
   ]
  },
  {
   "cell_type": "markdown",
   "id": "ac14ebfd",
   "metadata": {},
   "source": [
    "### Pattern type - 06"
   ]
  },
  {
   "cell_type": "code",
   "execution_count": 169,
   "id": "635a2544",
   "metadata": {},
   "outputs": [
    {
     "name": "stdout",
     "output_type": "stream",
     "text": [
      "     * \n",
      "    * * \n",
      "   * * * \n",
      "  * * * * \n"
     ]
    }
   ],
   "source": [
    "#Pattern - 01\n",
    "for i in range(4,0,-1):\n",
    "    for j in range(0,i+1):\n",
    "        print(\" \",end=\"\")\n",
    "    for j in range(i, 5):\n",
    "        print(\"*\",end=\" \")\n",
    "    print()"
   ]
  },
  {
   "cell_type": "code",
   "execution_count": 170,
   "id": "c7f46953",
   "metadata": {},
   "outputs": [
    {
     "name": "stdout",
     "output_type": "stream",
     "text": [
      "      1 \n",
      "     2 2 \n",
      "    3 3 3 \n",
      "   4 4 4 4 \n",
      "  5 5 5 5 5 \n"
     ]
    }
   ],
   "source": [
    "#Pattern - 02\n",
    "for i in range(5,0,-1):\n",
    "    for j in range(0,i+1):\n",
    "        print(\" \",end=\"\")\n",
    "    for j in range(i, 6):\n",
    "        print(6-i,end=\" \")\n",
    "    print()"
   ]
  },
  {
   "cell_type": "code",
   "execution_count": 171,
   "id": "21688125",
   "metadata": {},
   "outputs": [
    {
     "name": "stdout",
     "output_type": "stream",
     "text": [
      "       1 \n",
      "     3 3 3 \n",
      "   5 5 5 5 5 \n",
      " 7 7 7 7 7 7 7 \n",
      "9 9 9 9 9 9 9 9 9 \n"
     ]
    }
   ],
   "source": [
    "#Pattern - 03\n",
    "for i in range(5,-4,-2):\n",
    "    for j in range(0,i+2):\n",
    "        print(\" \",end=\"\")\n",
    "    for j in range(i, 6):\n",
    "        print(6-i,end=\" \")\n",
    "    print()"
   ]
  },
  {
   "cell_type": "code",
   "execution_count": 172,
   "id": "c4b19fa5",
   "metadata": {},
   "outputs": [
    {
     "name": "stdout",
     "output_type": "stream",
     "text": [
      "          1 \n",
      "        1 2 3 \n",
      "      1 2 3 4 5 \n",
      "    1 2 3 4 5 6 7 \n",
      "  1 2 3 4 5 6 7 8 9 \n"
     ]
    }
   ],
   "source": [
    "#Pattern - 04\n",
    "for i in range(9,0,-2):\n",
    "    for j in range(0,i+1):\n",
    "        print(\" \",end=\"\")\n",
    "    for j in range(i+1, 11):\n",
    "        print(-(i-j),end=\" \")\n",
    "    print()"
   ]
  },
  {
   "cell_type": "code",
   "execution_count": 173,
   "id": "37142fb1",
   "metadata": {},
   "outputs": [
    {
     "name": "stdout",
     "output_type": "stream",
     "text": [
      "          1 \n",
      "        3 2 1 \n",
      "      5 4 3 2 1 \n",
      "    7 6 5 4 3 2 1 \n",
      "  9 8 7 6 5 4 3 2 1 \n"
     ]
    }
   ],
   "source": [
    "#Pattern - 05\n",
    "for i in range(9,0,-2):\n",
    "    for j in range(0,i+1):\n",
    "        print(\" \",end=\"\")\n",
    "    for j in range(11, i+1,-1):\n",
    "        print(j-i-1,end=\" \")\n",
    "    print()"
   ]
  },
  {
   "cell_type": "code",
   "execution_count": 174,
   "id": "c5777dc4",
   "metadata": {},
   "outputs": [
    {
     "name": "stdout",
     "output_type": "stream",
     "text": [
      "      A \n",
      "     B B \n",
      "    C C C \n",
      "   D D D D \n",
      "  E E E E E \n"
     ]
    }
   ],
   "source": [
    "#Pattern - 06\n",
    "st = 65\n",
    "for i in range(5,0,-1):\n",
    "    for j in range(0,i+1):\n",
    "        print(\" \",end=\"\")\n",
    "    for j in range(i, 6):\n",
    "        print(chr(st + 5-i),end=\" \")\n",
    "    print()"
   ]
  },
  {
   "cell_type": "code",
   "execution_count": 175,
   "id": "cb586041",
   "metadata": {},
   "outputs": [
    {
     "name": "stdout",
     "output_type": "stream",
     "text": [
      "       A \n",
      "     C C C \n",
      "   E E E E E \n",
      " G G G G G G G \n",
      "I I I I I I I I I \n"
     ]
    }
   ],
   "source": [
    "#Pattern - 07\n",
    "st = 65\n",
    "for i in range(5,-4,-2):\n",
    "    for j in range(0,i+2):\n",
    "        print(\" \",end=\"\")\n",
    "    for j in range(i, 6):\n",
    "        print(chr(st+5-i),end=\" \")\n",
    "    print()"
   ]
  },
  {
   "cell_type": "code",
   "execution_count": 176,
   "id": "99f0da99",
   "metadata": {},
   "outputs": [
    {
     "name": "stdout",
     "output_type": "stream",
     "text": [
      "          A \n",
      "        A B C \n",
      "      A B C D E \n",
      "    A B C D E F G \n",
      "  A B C D E F G H I \n"
     ]
    }
   ],
   "source": [
    "#Pattern - 08\n",
    "st = 65\n",
    "for i in range(9,0,-2):\n",
    "    for j in range(0,i+1):\n",
    "        print(\" \",end=\"\")\n",
    "    for j in range(i+1, 11):\n",
    "        print(chr(st-(i-j+1)),end=\" \")\n",
    "    print()"
   ]
  },
  {
   "cell_type": "code",
   "execution_count": 177,
   "id": "10216874",
   "metadata": {},
   "outputs": [
    {
     "name": "stdout",
     "output_type": "stream",
     "text": [
      "          A \n",
      "        C B A \n",
      "      E D C B A \n",
      "    G F E D C B A \n",
      "  I H G F E D C B A \n"
     ]
    }
   ],
   "source": [
    "#Pattern - 09\n",
    "st = 65\n",
    "for i in range(9,0,-2):\n",
    "    for j in range(0,i+1):\n",
    "        print(\" \",end=\"\")\n",
    "    for j in range(11, i+1,-1):\n",
    "        print(chr(st + j-i-2),end=\" \")\n",
    "    print()"
   ]
  },
  {
   "cell_type": "markdown",
   "id": "b8b6a6a3",
   "metadata": {},
   "source": [
    "### Pattern type - 07"
   ]
  },
  {
   "cell_type": "code",
   "execution_count": 148,
   "id": "df37dc74",
   "metadata": {},
   "outputs": [
    {
     "name": "stdout",
     "output_type": "stream",
     "text": [
      "Enter the value of N: 5\n",
      "* \n",
      "* * \n",
      "* * * \n",
      "* * * * \n",
      "* * * * * \n",
      "* * * * * \n",
      "* * * * \n",
      "* * * \n",
      "* * \n",
      "* \n"
     ]
    }
   ],
   "source": [
    "#*Pattern - 01\n",
    "n1Type7 = int(input(\"Enter the value of N: \"))\n",
    "for i in range(0, n1Type7):\n",
    "    for j in range(0, i+1):\n",
    "        print(\"* \",end=\"\")\n",
    "    print(\"\\r\")\n",
    "for i in reversed(range(0, n1Type7)):\n",
    "    for j in reversed(range(0, i+1)):\n",
    "        print(\"* \",end=\"\")\n",
    "    print(\"\\r\")"
   ]
  },
  {
   "cell_type": "code",
   "execution_count": 151,
   "id": "c82122a8",
   "metadata": {},
   "outputs": [
    {
     "name": "stdout",
     "output_type": "stream",
     "text": [
      "Enter length of String: 6\n",
      "Enter String: PRABHU\n",
      "P \n",
      "P R \n",
      "P R A \n",
      "P R A B \n",
      "P R A B H \n",
      "P R A B H U \n",
      "P R A B H U \n",
      "P R A B H \n",
      "P R A B \n",
      "P R A \n",
      "P R \n",
      "P \n"
     ]
    }
   ],
   "source": [
    "#Pattern - 02\n",
    "n2Type7 = int(input(\"Enter length of String: \"))\n",
    "str2Type7 = input(\"Enter String: \")\n",
    "for i in range(0, n2Type7):\n",
    "    for j in range(0, i+1):\n",
    "        print(str2Type7[j], end=\" \")\n",
    "    print(\"\\r\")\n",
    "for i in reversed(range(0, n2Type7)):\n",
    "    for j in range(0, i+1):\n",
    "        print(str2Type7[j], end=\" \")\n",
    "    print(\"\\r\")"
   ]
  },
  {
   "cell_type": "markdown",
   "id": "b076faf5",
   "metadata": {},
   "source": [
    "### Pattern type - 08"
   ]
  },
  {
   "cell_type": "code",
   "execution_count": 162,
   "id": "9f65989c",
   "metadata": {},
   "outputs": [
    {
     "name": "stdout",
     "output_type": "stream",
     "text": [
      "**************\n",
      "******  ******\n",
      "*****    *****\n",
      "****      ****\n",
      "***        ***\n",
      "**          **\n",
      "*            *\n"
     ]
    }
   ],
   "source": [
    "#Pattern - 01\n",
    "n1Type8 = 14\n",
    "print(\"*\" * n1Type8, end=\"\\n\")\n",
    "i = (n1Type8 // 2) - 1\n",
    "j = 2\n",
    "while i != 0:\n",
    "    while j <= (n1Type8 - 2):\n",
    "        print(\"*\" * i, end=\"\")\n",
    "        print(\" \" * j, end=\"\")\n",
    "        print(\"*\" * i, end=\"\\n\")\n",
    "        i = i - 1\n",
    "        j = j + 2"
   ]
  }
 ],
 "metadata": {
  "kernelspec": {
   "display_name": "Python 3",
   "language": "python",
   "name": "python3"
  },
  "language_info": {
   "codemirror_mode": {
    "name": "ipython",
    "version": 3
   },
   "file_extension": ".py",
   "mimetype": "text/x-python",
   "name": "python",
   "nbconvert_exporter": "python",
   "pygments_lexer": "ipython3",
   "version": "3.8.8"
  }
 },
 "nbformat": 4,
 "nbformat_minor": 5
}
