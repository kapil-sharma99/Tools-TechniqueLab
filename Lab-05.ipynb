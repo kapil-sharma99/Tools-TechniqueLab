{
 "cells": [
  {
   "cell_type": "code",
   "execution_count": 16,
   "id": "bad5c94e",
   "metadata": {},
   "outputs": [
    {
     "name": "stdout",
     "output_type": "stream",
     "text": [
      "Import complete\n"
     ]
    }
   ],
   "source": [
    "#Importing important libraries\n",
    "import pandas as pd\n",
    "import numpy as np\n",
    "import os\n",
    "print(\"Import complete\")"
   ]
  },
  {
   "cell_type": "code",
   "execution_count": 17,
   "id": "f6c37e42",
   "metadata": {},
   "outputs": [
    {
     "name": "stdout",
     "output_type": "stream",
     "text": [
      "Oops!! everything deleted\n"
     ]
    }
   ],
   "source": [
    "f = open(\"demofile.txt\") #By default taking mode as read mode\n",
    "print(f.read())"
   ]
  },
  {
   "cell_type": "code",
   "execution_count": 18,
   "id": "5371133d",
   "metadata": {},
   "outputs": [],
   "source": [
    "f.close() #For closing the opened file"
   ]
  },
  {
   "cell_type": "code",
   "execution_count": 19,
   "id": "2f503e3e",
   "metadata": {},
   "outputs": [
    {
     "name": "stdout",
     "output_type": "stream",
     "text": [
      "Oops!! everything deleted\n"
     ]
    }
   ],
   "source": [
    "f = open(\"demofile.txt\", \"r\") #Implicitely mentioning the read mode\n",
    "print(f.read())"
   ]
  },
  {
   "cell_type": "code",
   "execution_count": 20,
   "id": "819913dd",
   "metadata": {},
   "outputs": [
    {
     "name": "stdout",
     "output_type": "stream",
     "text": [
      "Oops\n"
     ]
    }
   ],
   "source": [
    "f = open(\"demofile.txt\", \"r\")\n",
    "print(f.read(4)) #printing till 4 characters"
   ]
  },
  {
   "cell_type": "code",
   "execution_count": 21,
   "id": "de65824b",
   "metadata": {},
   "outputs": [
    {
     "name": "stdout",
     "output_type": "stream",
     "text": [
      "Oops!! everything deleted\n",
      "\n"
     ]
    }
   ],
   "source": [
    "f = open(\"demofile.txt\")\n",
    "print(f.readline()) #Reading line by line\n",
    "print(f.readline())"
   ]
  },
  {
   "cell_type": "code",
   "execution_count": 22,
   "id": "e4e3b82e",
   "metadata": {},
   "outputs": [
    {
     "name": "stdout",
     "output_type": "stream",
     "text": [
      "Oops!! everything deleted\n"
     ]
    }
   ],
   "source": [
    "f = open(\"demofile.txt\")\n",
    "for x in f: #Accessing the file using for loop\n",
    "    print(x)"
   ]
  },
  {
   "cell_type": "code",
   "execution_count": 23,
   "id": "d5e7a90b",
   "metadata": {},
   "outputs": [
    {
     "ename": "UnsupportedOperation",
     "evalue": "not readable",
     "output_type": "error",
     "traceback": [
      "\u001b[1;31m---------------------------------------------------------------------------\u001b[0m",
      "\u001b[1;31mUnsupportedOperation\u001b[0m                      Traceback (most recent call last)",
      "\u001b[1;32m<ipython-input-23-9474ba58fe62>\u001b[0m in \u001b[0;36m<module>\u001b[1;34m\u001b[0m\n\u001b[0;32m      1\u001b[0m \u001b[0mf\u001b[0m \u001b[1;33m=\u001b[0m \u001b[0mopen\u001b[0m\u001b[1;33m(\u001b[0m\u001b[1;34m\"demofile.txt\"\u001b[0m\u001b[1;33m,\u001b[0m \u001b[1;34m\"a\"\u001b[0m\u001b[1;33m)\u001b[0m \u001b[1;31m#Opening file in append mode\u001b[0m\u001b[1;33m\u001b[0m\u001b[1;33m\u001b[0m\u001b[0m\n\u001b[0;32m      2\u001b[0m \u001b[0mf\u001b[0m\u001b[1;33m.\u001b[0m\u001b[0mwrite\u001b[0m\u001b[1;33m(\u001b[0m\u001b[1;34m\"\\nWelcome to kiit university\"\u001b[0m\u001b[1;33m)\u001b[0m\u001b[1;33m\u001b[0m\u001b[1;33m\u001b[0m\u001b[0m\n\u001b[1;32m----> 3\u001b[1;33m \u001b[1;32mfor\u001b[0m \u001b[0mx\u001b[0m \u001b[1;32min\u001b[0m \u001b[0mf\u001b[0m\u001b[1;33m:\u001b[0m\u001b[1;33m\u001b[0m\u001b[1;33m\u001b[0m\u001b[0m\n\u001b[0m\u001b[0;32m      4\u001b[0m     \u001b[0mprint\u001b[0m\u001b[1;33m(\u001b[0m\u001b[0mx\u001b[0m\u001b[1;33m)\u001b[0m\u001b[1;33m\u001b[0m\u001b[1;33m\u001b[0m\u001b[0m\n",
      "\u001b[1;31mUnsupportedOperation\u001b[0m: not readable"
     ]
    }
   ],
   "source": [
    "f = open(\"demofile.txt\", \"a\") #Opening file in append mode\n",
    "f.write(\"\\nWelcome to kiit university\")\n",
    "for x in f:\n",
    "    print(x)"
   ]
  },
  {
   "cell_type": "code",
   "execution_count": 24,
   "id": "0eb04395",
   "metadata": {},
   "outputs": [],
   "source": [
    "f.close()"
   ]
  },
  {
   "cell_type": "code",
   "execution_count": 25,
   "id": "6ced16b8",
   "metadata": {},
   "outputs": [
    {
     "name": "stdout",
     "output_type": "stream",
     "text": [
      "Oops!! everything deleted\n",
      "Welcome to kiit university\n"
     ]
    }
   ],
   "source": [
    "f = open(\"demofile.txt\", \"r\")\n",
    "print(f.read())"
   ]
  },
  {
   "cell_type": "code",
   "execution_count": 26,
   "id": "e17ef305",
   "metadata": {},
   "outputs": [],
   "source": [
    "#If we open file in write mode, it will truncate all the pre-existing data in file and start from fresh in it."
   ]
  },
  {
   "cell_type": "code",
   "execution_count": 27,
   "id": "81e934ba",
   "metadata": {},
   "outputs": [
    {
     "name": "stdout",
     "output_type": "stream",
     "text": [
      "Oops!! everything deleted\n"
     ]
    }
   ],
   "source": [
    "f = open(\"demofile.txt\", \"w\")\n",
    "f.write(\"Oops!! everything deleted\")\n",
    "f.close()\n",
    "\n",
    "f = open(\"demofile.txt\")\n",
    "print(f.read())"
   ]
  },
  {
   "cell_type": "code",
   "execution_count": 28,
   "id": "4b8795e1",
   "metadata": {},
   "outputs": [],
   "source": [
    "f = open(\"newfile.txt\", \"x\") #Using x mode we can create new file"
   ]
  },
  {
   "cell_type": "code",
   "execution_count": 29,
   "id": "8e2e0f12",
   "metadata": {},
   "outputs": [
    {
     "data": {
      "text/plain": [
       "34"
      ]
     },
     "execution_count": 29,
     "metadata": {},
     "output_type": "execute_result"
    }
   ],
   "source": [
    "f = open(\"newfile.txt\", \"a\")\n",
    "f.write(\"New file created and text inserted\")"
   ]
  },
  {
   "cell_type": "code",
   "execution_count": 30,
   "id": "62368dc1",
   "metadata": {},
   "outputs": [],
   "source": [
    "f.close()"
   ]
  },
  {
   "cell_type": "code",
   "execution_count": 31,
   "id": "787bf01b",
   "metadata": {},
   "outputs": [
    {
     "name": "stdout",
     "output_type": "stream",
     "text": [
      "New file created and text inserted\n"
     ]
    }
   ],
   "source": [
    "f = open(\"newfile.txt\")\n",
    "print(f.read())"
   ]
  },
  {
   "cell_type": "code",
   "execution_count": 32,
   "id": "8df7ae5b",
   "metadata": {},
   "outputs": [],
   "source": [
    "f.close()"
   ]
  },
  {
   "cell_type": "code",
   "execution_count": 33,
   "id": "2ef16b3d",
   "metadata": {},
   "outputs": [],
   "source": [
    "os.remove(\"newfile.txt\") #Remove a file, if we want to delete a directory: os.rmdir(\"directoryname\")"
   ]
  },
  {
   "cell_type": "code",
   "execution_count": 34,
   "id": "46dad1e5",
   "metadata": {},
   "outputs": [],
   "source": [
    "#Question: Write a python program that reads a file line by line, each line read from the file is \n",
    "#copied to another file with line number specified at the beginning of the line."
   ]
  },
  {
   "cell_type": "code",
   "execution_count": 67,
   "id": "559a52b0",
   "metadata": {},
   "outputs": [],
   "source": [
    "file1 = open(\"newAssignmentFile.txt\")\n",
    "file2 = open(\"newAssignmentCopiedFile.txt\", \"a\")\n",
    "val = 1\n",
    "for x in file1:\n",
    "    file2.write(x + \": \" + str(val))\n",
    "    val += 1"
   ]
  },
  {
   "cell_type": "code",
   "execution_count": 68,
   "id": "23959174",
   "metadata": {},
   "outputs": [],
   "source": [
    "file2.close()\n",
    "file1.close()"
   ]
  },
  {
   "cell_type": "code",
   "execution_count": 69,
   "id": "b404249a",
   "metadata": {},
   "outputs": [
    {
     "name": "stdout",
     "output_type": "stream",
     "text": [
      "Hello World!!\n",
      "\n",
      ": 1Kapil Sharma\n",
      "\n",
      ": 2Welcome to KIIT\n",
      "\n",
      ": 3Tools and Techniques lab\n",
      "\n",
      ": 4Kalinga institute of industrial technology: 5\n"
     ]
    }
   ],
   "source": [
    "file1 = open(\"newAssignmentCopiedFile.txt\")\n",
    "for x in file1:\n",
    "    print(x)"
   ]
  },
  {
   "cell_type": "code",
   "execution_count": 70,
   "id": "854e3571",
   "metadata": {},
   "outputs": [],
   "source": [
    "file1.close()"
   ]
  },
  {
   "cell_type": "code",
   "execution_count": null,
   "id": "6ec40911",
   "metadata": {},
   "outputs": [],
   "source": []
  },
  {
   "cell_type": "code",
   "execution_count": 48,
   "id": "30fbb6ff",
   "metadata": {},
   "outputs": [
    {
     "name": "stdout",
     "output_type": "stream",
     "text": [
      "Hello\n",
      "World!!\n",
      "Kapil\n",
      "Sharma\n",
      "Welcome\n",
      "Tools\n",
      "Techniques\n",
      "Kalinga\n",
      "institute\n",
      "industrial\n",
      "technology\n"
     ]
    }
   ],
   "source": [
    "f = open(\"newAssignmentFile.txt\")\n",
    "for x in f:\n",
    "    for y in x.split():\n",
    "        if(len(y) >= 5):\n",
    "            print(y)"
   ]
  },
  {
   "cell_type": "code",
   "execution_count": null,
   "id": "d07ce199",
   "metadata": {},
   "outputs": [],
   "source": []
  }
 ],
 "metadata": {
  "kernelspec": {
   "display_name": "Python 3",
   "language": "python",
   "name": "python3"
  },
  "language_info": {
   "codemirror_mode": {
    "name": "ipython",
    "version": 3
   },
   "file_extension": ".py",
   "mimetype": "text/x-python",
   "name": "python",
   "nbconvert_exporter": "python",
   "pygments_lexer": "ipython3",
   "version": "3.8.8"
  }
 },
 "nbformat": 4,
 "nbformat_minor": 5
}
