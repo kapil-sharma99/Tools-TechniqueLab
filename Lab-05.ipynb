{
 "cells": [
  {
   "cell_type": "code",
   "execution_count": 39,
   "id": "b5ac20d1",
   "metadata": {},
   "outputs": [
    {
     "name": "stdout",
     "output_type": "stream",
     "text": [
      "Import complete\n"
     ]
    }
   ],
   "source": [
    "#Importing important libraries\n",
    "import pandas as pd\n",
    "import numpy as np\n",
    "import os\n",
    "print(\"Import complete\")"
   ]
  },
  {
   "cell_type": "code",
   "execution_count": 18,
   "id": "27cf8e5c",
   "metadata": {},
   "outputs": [
    {
     "name": "stdout",
     "output_type": "stream",
     "text": [
      "Hello world!!\n",
      "Kapil Sharma\n"
     ]
    }
   ],
   "source": [
    "f = open(\"demofile.txt\") #By default taking mode as read mode\n",
    "print(f.read())"
   ]
  },
  {
   "cell_type": "code",
   "execution_count": 19,
   "id": "dcc46599",
   "metadata": {},
   "outputs": [],
   "source": [
    "f.close() #For closing the opened file"
   ]
  },
  {
   "cell_type": "code",
   "execution_count": 20,
   "id": "e992985c",
   "metadata": {},
   "outputs": [
    {
     "name": "stdout",
     "output_type": "stream",
     "text": [
      "Hello world!!\n",
      "Kapil Sharma\n"
     ]
    }
   ],
   "source": [
    "f = open(\"demofile.txt\", \"r\") #Implicitely mentioning the read mode\n",
    "print(f.read())"
   ]
  },
  {
   "cell_type": "code",
   "execution_count": 21,
   "id": "19aa7f49",
   "metadata": {},
   "outputs": [
    {
     "name": "stdout",
     "output_type": "stream",
     "text": [
      "Hell\n"
     ]
    }
   ],
   "source": [
    "f = open(\"demofile.txt\", \"r\")\n",
    "print(f.read(4)) #printing till 4 characters"
   ]
  },
  {
   "cell_type": "code",
   "execution_count": 23,
   "id": "abd41e26",
   "metadata": {},
   "outputs": [
    {
     "name": "stdout",
     "output_type": "stream",
     "text": [
      "Hello world!!\n",
      "\n",
      "Kapil Sharma\n"
     ]
    }
   ],
   "source": [
    "f = open(\"demofile.txt\")\n",
    "print(f.readline()) #Reading line by line\n",
    "print(f.readline())"
   ]
  },
  {
   "cell_type": "code",
   "execution_count": 24,
   "id": "45ddfd85",
   "metadata": {},
   "outputs": [
    {
     "name": "stdout",
     "output_type": "stream",
     "text": [
      "Hello world!!\n",
      "\n",
      "Kapil Sharma\n"
     ]
    }
   ],
   "source": [
    "f = open(\"demofile.txt\")\n",
    "for x in f: #Accessing the file using for loop\n",
    "    print(x)"
   ]
  },
  {
   "cell_type": "code",
   "execution_count": 26,
   "id": "def54288",
   "metadata": {},
   "outputs": [
    {
     "ename": "UnsupportedOperation",
     "evalue": "not readable",
     "output_type": "error",
     "traceback": [
      "\u001b[1;31m---------------------------------------------------------------------------\u001b[0m",
      "\u001b[1;31mUnsupportedOperation\u001b[0m                      Traceback (most recent call last)",
      "\u001b[1;32m<ipython-input-26-9474ba58fe62>\u001b[0m in \u001b[0;36m<module>\u001b[1;34m\u001b[0m\n\u001b[0;32m      1\u001b[0m \u001b[0mf\u001b[0m \u001b[1;33m=\u001b[0m \u001b[0mopen\u001b[0m\u001b[1;33m(\u001b[0m\u001b[1;34m\"demofile.txt\"\u001b[0m\u001b[1;33m,\u001b[0m \u001b[1;34m\"a\"\u001b[0m\u001b[1;33m)\u001b[0m \u001b[1;31m#Opening file in append mode\u001b[0m\u001b[1;33m\u001b[0m\u001b[1;33m\u001b[0m\u001b[0m\n\u001b[0;32m      2\u001b[0m \u001b[0mf\u001b[0m\u001b[1;33m.\u001b[0m\u001b[0mwrite\u001b[0m\u001b[1;33m(\u001b[0m\u001b[1;34m\"\\nWelcome to kiit university\"\u001b[0m\u001b[1;33m)\u001b[0m\u001b[1;33m\u001b[0m\u001b[1;33m\u001b[0m\u001b[0m\n\u001b[1;32m----> 3\u001b[1;33m \u001b[1;32mfor\u001b[0m \u001b[0mx\u001b[0m \u001b[1;32min\u001b[0m \u001b[0mf\u001b[0m\u001b[1;33m:\u001b[0m\u001b[1;33m\u001b[0m\u001b[1;33m\u001b[0m\u001b[0m\n\u001b[0m\u001b[0;32m      4\u001b[0m     \u001b[0mprint\u001b[0m\u001b[1;33m(\u001b[0m\u001b[0mx\u001b[0m\u001b[1;33m)\u001b[0m\u001b[1;33m\u001b[0m\u001b[1;33m\u001b[0m\u001b[0m\n",
      "\u001b[1;31mUnsupportedOperation\u001b[0m: not readable"
     ]
    }
   ],
   "source": [
    "f = open(\"demofile.txt\", \"a\") #Opening file in append mode\n",
    "f.write(\"\\nWelcome to kiit university\")\n",
    "for x in f:\n",
    "    print(x)"
   ]
  },
  {
   "cell_type": "code",
   "execution_count": 27,
   "id": "972234e8",
   "metadata": {},
   "outputs": [],
   "source": [
    "f.close()"
   ]
  },
  {
   "cell_type": "code",
   "execution_count": 31,
   "id": "a42cbb33",
   "metadata": {},
   "outputs": [
    {
     "name": "stdout",
     "output_type": "stream",
     "text": [
      "Hello world!!\n",
      "Kapil Sharma\n",
      "Welcome to kiit university\n",
      "Welcome to kiit university\n"
     ]
    }
   ],
   "source": [
    "f = open(\"demofile.txt\", \"r\")\n",
    "print(f.read())"
   ]
  },
  {
   "cell_type": "code",
   "execution_count": 32,
   "id": "422096e0",
   "metadata": {},
   "outputs": [],
   "source": [
    "#If we open file in write mode, it will truncate all the pre-existing data in file and start from fresh in it."
   ]
  },
  {
   "cell_type": "code",
   "execution_count": 34,
   "id": "d9d66f8f",
   "metadata": {},
   "outputs": [
    {
     "name": "stdout",
     "output_type": "stream",
     "text": [
      "Oops!! everything deleted\n"
     ]
    }
   ],
   "source": [
    "f = open(\"demofile.txt\", \"w\")\n",
    "f.write(\"Oops!! everything deleted\")\n",
    "f.close()\n",
    "\n",
    "f = open(\"demofile.txt\")\n",
    "print(f.read())"
   ]
  },
  {
   "cell_type": "code",
   "execution_count": 45,
   "id": "55ad8e9d",
   "metadata": {},
   "outputs": [],
   "source": [
    "f = open(\"newfile.txt\", \"x\") #Using x mode we can create new file"
   ]
  },
  {
   "cell_type": "code",
   "execution_count": 46,
   "id": "b7df36a0",
   "metadata": {},
   "outputs": [
    {
     "data": {
      "text/plain": [
       "34"
      ]
     },
     "execution_count": 46,
     "metadata": {},
     "output_type": "execute_result"
    }
   ],
   "source": [
    "f = open(\"newfile.txt\", \"a\")\n",
    "f.write(\"New file created and text inserted\")"
   ]
  },
  {
   "cell_type": "code",
   "execution_count": 47,
   "id": "7a446950",
   "metadata": {},
   "outputs": [],
   "source": [
    "f.close()"
   ]
  },
  {
   "cell_type": "code",
   "execution_count": 48,
   "id": "609f37cf",
   "metadata": {},
   "outputs": [
    {
     "name": "stdout",
     "output_type": "stream",
     "text": [
      "New file created and text inserted\n"
     ]
    }
   ],
   "source": [
    "f = open(\"newfile.txt\")\n",
    "print(f.read())"
   ]
  },
  {
   "cell_type": "code",
   "execution_count": 49,
   "id": "78ae23b9",
   "metadata": {},
   "outputs": [],
   "source": [
    "f.close()"
   ]
  },
  {
   "cell_type": "code",
   "execution_count": 50,
   "id": "8d2dee00",
   "metadata": {},
   "outputs": [],
   "source": [
    "os.remove(\"newfile.txt\") #Remove a file, if we want to delete a directory: os.rmdir(\"directoryname\")"
   ]
  },
  {
   "cell_type": "code",
   "execution_count": null,
   "id": "09c351d7",
   "metadata": {},
   "outputs": [],
   "source": []
  }
 ],
 "metadata": {
  "kernelspec": {
   "display_name": "Python 3",
   "language": "python",
   "name": "python3"
  },
  "language_info": {
   "codemirror_mode": {
    "name": "ipython",
    "version": 3
   },
   "file_extension": ".py",
   "mimetype": "text/x-python",
   "name": "python",
   "nbconvert_exporter": "python",
   "pygments_lexer": "ipython3",
   "version": "3.8.8"
  }
 },
 "nbformat": 4,
 "nbformat_minor": 5
}
