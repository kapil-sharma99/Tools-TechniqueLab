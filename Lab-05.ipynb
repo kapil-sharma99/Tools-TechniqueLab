{
 "cells": [
  {
   "cell_type": "code",
   "execution_count": 1,
   "id": "797baa55",
   "metadata": {},
   "outputs": [
    {
     "name": "stdout",
     "output_type": "stream",
     "text": [
      "Import complete\n"
     ]
    }
   ],
   "source": [
    "#Importing important libraries\n",
    "import pandas as pd\n",
    "import numpy as np\n",
    "import os\n",
    "print(\"Import complete\")"
   ]
  },
  {
   "cell_type": "code",
   "execution_count": 2,
   "id": "67e134dd",
   "metadata": {},
   "outputs": [
    {
     "name": "stdout",
     "output_type": "stream",
     "text": [
      "Oops!! everything deleted\n"
     ]
    }
   ],
   "source": [
    "f = open(\"demofile.txt\") #By default taking mode as read mode\n",
    "print(f.read())"
   ]
  },
  {
   "cell_type": "code",
   "execution_count": 3,
   "id": "b71a2efe",
   "metadata": {},
   "outputs": [],
   "source": [
    "f.close() #For closing the opened file"
   ]
  },
  {
   "cell_type": "code",
   "execution_count": 4,
   "id": "89fc2527",
   "metadata": {},
   "outputs": [
    {
     "name": "stdout",
     "output_type": "stream",
     "text": [
      "Oops!! everything deleted\n"
     ]
    }
   ],
   "source": [
    "f = open(\"demofile.txt\", \"r\") #Implicitely mentioning the read mode\n",
    "print(f.read())"
   ]
  },
  {
   "cell_type": "code",
   "execution_count": 5,
   "id": "4aa80609",
   "metadata": {},
   "outputs": [
    {
     "name": "stdout",
     "output_type": "stream",
     "text": [
      "Oops\n"
     ]
    }
   ],
   "source": [
    "f = open(\"demofile.txt\", \"r\")\n",
    "print(f.read(4)) #printing till 4 characters"
   ]
  },
  {
   "cell_type": "code",
   "execution_count": 6,
   "id": "28486ef9",
   "metadata": {},
   "outputs": [
    {
     "name": "stdout",
     "output_type": "stream",
     "text": [
      "Oops!! everything deleted\n",
      "\n"
     ]
    }
   ],
   "source": [
    "f = open(\"demofile.txt\")\n",
    "print(f.readline()) #Reading line by line\n",
    "print(f.readline())"
   ]
  },
  {
   "cell_type": "code",
   "execution_count": 7,
   "id": "f8450ba8",
   "metadata": {},
   "outputs": [
    {
     "name": "stdout",
     "output_type": "stream",
     "text": [
      "Oops!! everything deleted\n"
     ]
    }
   ],
   "source": [
    "f = open(\"demofile.txt\")\n",
    "for x in f: #Accessing the file using for loop\n",
    "    print(x)"
   ]
  },
  {
   "cell_type": "code",
   "execution_count": 8,
   "id": "b61506ab",
   "metadata": {},
   "outputs": [
    {
     "ename": "UnsupportedOperation",
     "evalue": "not readable",
     "output_type": "error",
     "traceback": [
      "\u001b[1;31m---------------------------------------------------------------------------\u001b[0m",
      "\u001b[1;31mUnsupportedOperation\u001b[0m                      Traceback (most recent call last)",
      "\u001b[1;32m<ipython-input-8-9474ba58fe62>\u001b[0m in \u001b[0;36m<module>\u001b[1;34m\u001b[0m\n\u001b[0;32m      1\u001b[0m \u001b[0mf\u001b[0m \u001b[1;33m=\u001b[0m \u001b[0mopen\u001b[0m\u001b[1;33m(\u001b[0m\u001b[1;34m\"demofile.txt\"\u001b[0m\u001b[1;33m,\u001b[0m \u001b[1;34m\"a\"\u001b[0m\u001b[1;33m)\u001b[0m \u001b[1;31m#Opening file in append mode\u001b[0m\u001b[1;33m\u001b[0m\u001b[1;33m\u001b[0m\u001b[0m\n\u001b[0;32m      2\u001b[0m \u001b[0mf\u001b[0m\u001b[1;33m.\u001b[0m\u001b[0mwrite\u001b[0m\u001b[1;33m(\u001b[0m\u001b[1;34m\"\\nWelcome to kiit university\"\u001b[0m\u001b[1;33m)\u001b[0m\u001b[1;33m\u001b[0m\u001b[1;33m\u001b[0m\u001b[0m\n\u001b[1;32m----> 3\u001b[1;33m \u001b[1;32mfor\u001b[0m \u001b[0mx\u001b[0m \u001b[1;32min\u001b[0m \u001b[0mf\u001b[0m\u001b[1;33m:\u001b[0m\u001b[1;33m\u001b[0m\u001b[1;33m\u001b[0m\u001b[0m\n\u001b[0m\u001b[0;32m      4\u001b[0m     \u001b[0mprint\u001b[0m\u001b[1;33m(\u001b[0m\u001b[0mx\u001b[0m\u001b[1;33m)\u001b[0m\u001b[1;33m\u001b[0m\u001b[1;33m\u001b[0m\u001b[0m\n",
      "\u001b[1;31mUnsupportedOperation\u001b[0m: not readable"
     ]
    }
   ],
   "source": [
    "f = open(\"demofile.txt\", \"a\") #Opening file in append mode\n",
    "f.write(\"\\nWelcome to kiit university\")\n",
    "for x in f:\n",
    "    print(x)"
   ]
  },
  {
   "cell_type": "code",
   "execution_count": null,
   "id": "6feec1b0",
   "metadata": {},
   "outputs": [],
   "source": [
    "f.close()"
   ]
  },
  {
   "cell_type": "code",
   "execution_count": null,
   "id": "628c4afa",
   "metadata": {},
   "outputs": [],
   "source": [
    "f = open(\"demofile.txt\", \"r\")\n",
    "print(f.read())"
   ]
  },
  {
   "cell_type": "code",
   "execution_count": null,
   "id": "1f4da776",
   "metadata": {},
   "outputs": [],
   "source": [
    "#If we open file in write mode, it will truncate all the pre-existing data in file and start from fresh in it."
   ]
  },
  {
   "cell_type": "code",
   "execution_count": null,
   "id": "9f5d6c6b",
   "metadata": {},
   "outputs": [],
   "source": [
    "f = open(\"demofile.txt\", \"w\")\n",
    "f.write(\"Oops!! everything deleted\")\n",
    "f.close()\n",
    "\n",
    "f = open(\"demofile.txt\")\n",
    "print(f.read())"
   ]
  },
  {
   "cell_type": "code",
   "execution_count": 9,
   "id": "4e1315f7",
   "metadata": {},
   "outputs": [],
   "source": [
    "f = open(\"newfile.txt\", \"x\") #Using x mode we can create new file"
   ]
  },
  {
   "cell_type": "code",
   "execution_count": 10,
   "id": "ee756fed",
   "metadata": {},
   "outputs": [
    {
     "data": {
      "text/plain": [
       "34"
      ]
     },
     "execution_count": 10,
     "metadata": {},
     "output_type": "execute_result"
    }
   ],
   "source": [
    "f = open(\"newfile.txt\", \"a\")\n",
    "f.write(\"New file created and text inserted\")"
   ]
  },
  {
   "cell_type": "code",
   "execution_count": 11,
   "id": "e8c605d0",
   "metadata": {},
   "outputs": [],
   "source": [
    "f.close()"
   ]
  },
  {
   "cell_type": "code",
   "execution_count": 12,
   "id": "f68ebdfc",
   "metadata": {},
   "outputs": [
    {
     "name": "stdout",
     "output_type": "stream",
     "text": [
      "New file created and text inserted\n"
     ]
    }
   ],
   "source": [
    "f = open(\"newfile.txt\")\n",
    "print(f.read())"
   ]
  },
  {
   "cell_type": "code",
   "execution_count": 13,
   "id": "8a100efc",
   "metadata": {},
   "outputs": [],
   "source": [
    "f.close()"
   ]
  },
  {
   "cell_type": "code",
   "execution_count": 14,
   "id": "dae9ae56",
   "metadata": {},
   "outputs": [],
   "source": [
    "os.remove(\"newfile.txt\") #Remove a file, if we want to delete a directory: os.rmdir(\"directoryname\")"
   ]
  },
  {
   "cell_type": "code",
   "execution_count": 15,
   "id": "5c3db50f",
   "metadata": {},
   "outputs": [],
   "source": [
    "#Question: Write a python program that reads a file line by line, each line read from the file is \n",
    "#copied to another file with line number specified at the beginning of the line."
   ]
  },
  {
   "cell_type": "code",
   "execution_count": 16,
   "id": "72f6bc66",
   "metadata": {},
   "outputs": [],
   "source": [
    "file1 = open(\"newAssignmentFile.txt\")\n",
    "file2 = open(\"newAssignmentCopiedFile.txt\", \"a\")\n",
    "val = 1\n",
    "for x in file1:\n",
    "    file2.write(x + \": \" + str(val))\n",
    "    val += 1"
   ]
  },
  {
   "cell_type": "code",
   "execution_count": 17,
   "id": "c146d489",
   "metadata": {},
   "outputs": [],
   "source": [
    "file2.close()\n",
    "file1.close()"
   ]
  },
  {
   "cell_type": "code",
   "execution_count": 18,
   "id": "f4badb76",
   "metadata": {},
   "outputs": [
    {
     "name": "stdout",
     "output_type": "stream",
     "text": [
      "Hello World!!\n",
      "\n",
      ": 1Kapil Sharma\n",
      "\n",
      ": 2Welcome to KIIT\n",
      "\n",
      ": 3Tools and Techniques lab\n",
      "\n",
      ": 4Kalinga institute of industrial technology: 5Hello World!!\n",
      "\n",
      ": 1Kapil Sharma\n",
      "\n",
      ": 2Welcome to KIIT\n",
      "\n",
      ": 3Tools and Techniques lab\n",
      "\n",
      ": 4Kalinga institute of industrial technology: 5\n"
     ]
    }
   ],
   "source": [
    "file1 = open(\"newAssignmentCopiedFile.txt\")\n",
    "for x in file1:\n",
    "    print(x)"
   ]
  },
  {
   "cell_type": "code",
   "execution_count": 19,
   "id": "57b2da45",
   "metadata": {},
   "outputs": [],
   "source": [
    "file1.close()"
   ]
  },
  {
   "cell_type": "code",
   "execution_count": 20,
   "id": "895faf4b",
   "metadata": {},
   "outputs": [],
   "source": [
    "#Write a python program that reads one file and print the words with >= 5 characters"
   ]
  },
  {
   "cell_type": "code",
   "execution_count": 21,
   "id": "edfd0fb6",
   "metadata": {},
   "outputs": [
    {
     "name": "stdout",
     "output_type": "stream",
     "text": [
      "Hello\n",
      "World!!\n",
      "Kapil\n",
      "Sharma\n",
      "Welcome\n",
      "Tools\n",
      "Techniques\n",
      "Kalinga\n",
      "institute\n",
      "industrial\n",
      "technology\n"
     ]
    }
   ],
   "source": [
    "f = open(\"newAssignmentFile.txt\")\n",
    "for x in f:\n",
    "    for y in x.split():\n",
    "        if(len(y) >= 5):\n",
    "            print(y)"
   ]
  },
  {
   "cell_type": "code",
   "execution_count": 22,
   "id": "b46e1bf6",
   "metadata": {},
   "outputs": [
    {
     "name": "stdout",
     "output_type": "stream",
     "text": [
      "Match found!!\n"
     ]
    }
   ],
   "source": [
    "#Regular expression started\n",
    "import re\n",
    "str1 = \"Welcome to kiit\"\n",
    "x = re.search(\"^Wel.*it\", str1)\n",
    "if x:\n",
    "    print(\"Match found!!\")\n",
    "else:\n",
    "    print(\"No match found!!\")"
   ]
  },
  {
   "cell_type": "code",
   "execution_count": 23,
   "id": "4d2c30fc",
   "metadata": {},
   "outputs": [
    {
     "name": "stdout",
     "output_type": "stream",
     "text": [
      "['Welcome to kiit']\n",
      "Match found!!\n"
     ]
    }
   ],
   "source": [
    "str1 = \"Welcome to kiit\"\n",
    "x = re.findall(\"^Wel.*it\", str1)\n",
    "print(x)\n",
    "if x:\n",
    "    print(\"Match found!!\")\n",
    "else:\n",
    "    print(\"No match found!!\")"
   ]
  },
  {
   "cell_type": "code",
   "execution_count": 24,
   "id": "ba7eb6ef",
   "metadata": {},
   "outputs": [
    {
     "name": "stdout",
     "output_type": "stream",
     "text": [
      "['Welcome']\n"
     ]
    }
   ],
   "source": [
    "x = re.findall(\"\\AWelcome\", str1)\n",
    "print(x)"
   ]
  },
  {
   "cell_type": "code",
   "execution_count": 25,
   "id": "3b4bf746",
   "metadata": {},
   "outputs": [
    {
     "name": "stdout",
     "output_type": "stream",
     "text": [
      "['el']\n"
     ]
    }
   ],
   "source": [
    "x = re.findall(\"el\", str1)\n",
    "print(x)"
   ]
  },
  {
   "cell_type": "code",
   "execution_count": 26,
   "id": "ee521f94",
   "metadata": {},
   "outputs": [
    {
     "name": "stdout",
     "output_type": "stream",
     "text": [
      "['Welcome', 'to', 'kiit']\n"
     ]
    }
   ],
   "source": [
    "x = re.split(\"\\s\", str1)\n",
    "print(x)"
   ]
  },
  {
   "cell_type": "code",
   "execution_count": 27,
   "id": "7f9786c3",
   "metadata": {},
   "outputs": [
    {
     "name": "stdout",
     "output_type": "stream",
     "text": [
      "alice@google.com\n",
      "bob@abc.com\n"
     ]
    }
   ],
   "source": [
    "str = 'purple alice@google.com, blah monkey bob@abc.com blah dishwasher'\n",
    "emails = re.findall(r'[\\w\\.-]+@[\\w\\.-]+', str)\n",
    "for email in emails:\n",
    "    print(email)"
   ]
  },
  {
   "cell_type": "code",
   "execution_count": 30,
   "id": "4f82f8f1",
   "metadata": {},
   "outputs": [
    {
     "name": "stdout",
     "output_type": "stream",
     "text": [
      "No match!!\n",
      "search --> searchObj.group() :  dogs\n"
     ]
    }
   ],
   "source": [
    "line = \"Cats are smarter than dogs\";\n",
    "matchObj = re.match( r'dogs', line, re.M|re.I)\n",
    "if matchObj:\n",
    "   print(\"match --> matchObj.group() : \", matchObj.group())\n",
    "else:\n",
    "   print(\"No match!!\")\n",
    "\n",
    "searchObj = re.search( r'dogs', line, re.M|re.I)\n",
    "if searchObj:\n",
    "   print(\"search --> searchObj.group() : \", searchObj.group())\n",
    "else:\n",
    "   print(\"Nothing found!!\")"
   ]
  },
  {
   "cell_type": "code",
   "execution_count": 31,
   "id": "b3c16511",
   "metadata": {},
   "outputs": [
    {
     "name": "stdout",
     "output_type": "stream",
     "text": [
      "Phone Num :  2004-959-559 \n",
      "Phone Num :  2004959559\n"
     ]
    }
   ],
   "source": [
    "phone = \"2004-959-559 # This is Phone Number\"\n",
    "num = re.sub(r'#.*$', \"\", phone)\n",
    "print(\"Phone Num : \", num)\n",
    "num = re.sub(r'\\D', \"\", phone)    \n",
    "print(\"Phone Num : \", num)"
   ]
  },
  {
   "cell_type": "code",
   "execution_count": null,
   "id": "474eb06b",
   "metadata": {},
   "outputs": [],
   "source": []
  }
 ],
 "metadata": {
  "kernelspec": {
   "display_name": "Python 3",
   "language": "python",
   "name": "python3"
  },
  "language_info": {
   "codemirror_mode": {
    "name": "ipython",
    "version": 3
   },
   "file_extension": ".py",
   "mimetype": "text/x-python",
   "name": "python",
   "nbconvert_exporter": "python",
   "pygments_lexer": "ipython3",
   "version": "3.8.8"
  }
 },
 "nbformat": 4,
 "nbformat_minor": 5
}
