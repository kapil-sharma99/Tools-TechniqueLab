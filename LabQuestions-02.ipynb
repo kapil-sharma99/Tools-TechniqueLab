{
 "cells": [
  {
   "cell_type": "markdown",
   "id": "5351bdba",
   "metadata": {},
   "source": [
    "### Lab Questions - 02"
   ]
  },
  {
   "cell_type": "code",
   "execution_count": 6,
   "id": "5c2e3e5f",
   "metadata": {},
   "outputs": [
    {
     "name": "stdout",
     "output_type": "stream",
     "text": [
      "6\n"
     ]
    }
   ],
   "source": [
    "def countVowel(str1):\n",
    "    vow = 0\n",
    "    vowel = set(\"aeiouAEIOU\")\n",
    "    for i in str1:\n",
    "        if i in vowel:\n",
    "            vow = vow + 1\n",
    "    return vow\n",
    "\n",
    "str1 = \"Welcome to KIIT\"\n",
    "print(countVowel(str1))"
   ]
  },
  {
   "cell_type": "code",
   "execution_count": 9,
   "id": "2c201dbc",
   "metadata": {},
   "outputs": [
    {
     "name": "stdout",
     "output_type": "stream",
     "text": [
      "K@pil Sh@rm@\n"
     ]
    }
   ],
   "source": [
    "str2 = \"Kapil Sharma\"\n",
    "print(str2.replace('a', '@'))"
   ]
  },
  {
   "cell_type": "code",
   "execution_count": 11,
   "id": "cd926a36",
   "metadata": {},
   "outputs": [
    {
     "name": "stdout",
     "output_type": "stream",
     "text": [
      "15\n"
     ]
    }
   ],
   "source": [
    "def lengthOfString(str3):\n",
    "    count = 0\n",
    "    for i in str3:\n",
    "        count = count + 1\n",
    "    return count\n",
    "\n",
    "str3 = \"Welcome to KIIT\"\n",
    "print(lengthOfString(str3))"
   ]
  },
  {
   "cell_type": "code",
   "execution_count": 14,
   "id": "09134e74",
   "metadata": {},
   "outputs": [
    {
     "name": "stdout",
     "output_type": "stream",
     "text": [
      "Enter string 1: Kapil\n",
      "Enter string 2: Sharma\n",
      "Sharma\n"
     ]
    }
   ],
   "source": [
    "str4 = input(\"Enter string 1: \")\n",
    "str5 = input(\"Enter string 2: \")\n",
    "count1 = lengthOfString(str4)\n",
    "count2 = lengthOfString(str5)\n",
    "if(count1 > count2):\n",
    "    print(str4)\n",
    "elif(count1 < count2):\n",
    "    print(str5)\n",
    "else:\n",
    "    print(\"Both strings are of same lenth\")"
   ]
  },
  {
   "cell_type": "code",
   "execution_count": 17,
   "id": "add535d0",
   "metadata": {},
   "outputs": [
    {
     "name": "stdout",
     "output_type": "stream",
     "text": [
      "Enter string: Welcome To KIIT\n",
      "Upper Case: 6\n",
      "Lower Case: 7\n"
     ]
    }
   ],
   "source": [
    "def countLowerCase(str6):\n",
    "    count = 0\n",
    "    for i in str6:\n",
    "        if (i.islower()):\n",
    "            count = count + 1\n",
    "    return count\n",
    "\n",
    "def countUpperCase(str6):\n",
    "    count = 0\n",
    "    for i in str6:\n",
    "        if(i.isupper()):\n",
    "            count = count + 1\n",
    "    return count\n",
    "\n",
    "str6 = input(\"Enter string: \")\n",
    "print(\"Upper Case: \" + str(countUpperCase(str6)))\n",
    "print(\"Lower Case: \" + str(countLowerCase(str6)))"
   ]
  },
  {
   "cell_type": "code",
   "execution_count": 21,
   "id": "444a1ff0",
   "metadata": {},
   "outputs": [
    {
     "name": "stdout",
     "output_type": "stream",
     "text": [
      "Digits in string: 7\n",
      "Characters in string: 8\n",
      "Special chars in string: 9\n"
     ]
    }
   ],
   "source": [
    "def calculateDigitsAndCharacters(str7):\n",
    "    digits = ['0', '1', '2', '3', '4', '5', '6', '7', '8', '9']\n",
    "    chars = ['a', 'b', 'c', 'd', 'e', 'f', 'g', 'h', 'i', 'j', 'k', 'l', 'm', 'n', 'o', 'p', 'q', 'r', 's', 't', 'u', 'v', 'w', 'x', 'y', 'z']\n",
    "    digitCount = 0\n",
    "    charCount = 0\n",
    "    specialCount = 0\n",
    "    \n",
    "    for i in str7:\n",
    "        if i in digits:\n",
    "            digitCount = digitCount + 1\n",
    "        elif i in chars:\n",
    "            charCount = charCount + 1\n",
    "        else:\n",
    "            specialCount = specialCount + 1\n",
    "        \n",
    "    print(\"Digits in string: \" + str(digitCount))\n",
    "    print(\"Characters in string: \" + str(charCount))\n",
    "    print(\"Special chars in string: \" + str(specialCount))\n",
    "        \n",
    "str7 = \"Welcome to KIIT: 1928343\"\n",
    "calculateDigitsAndCharacters(str7)"
   ]
  },
  {
   "cell_type": "code",
   "execution_count": 32,
   "id": "578933b4",
   "metadata": {},
   "outputs": [
    {
     "name": "stdout",
     "output_type": "stream",
     "text": [
      "WelKII\n"
     ]
    }
   ],
   "source": [
    "emptyString = \"\"\n",
    "str8 = \"Welcome to KIIT\"\n",
    "if(lengthOfString(str8) < 3):\n",
    "    print(emptyString)\n",
    "else:\n",
    "    start = str8[:3]\n",
    "    end = str8[-4:-1]\n",
    "newStr8 = start + end\n",
    "print(newStr8)"
   ]
  },
  {
   "cell_type": "code",
   "execution_count": 36,
   "id": "4d42ff4a",
   "metadata": {},
   "outputs": [
    {
     "name": "stdout",
     "output_type": "stream",
     "text": [
      "Enter string: Welcome to KIIT\n",
      "{'Welcome': 1, 'to': 1, 'KIIT': 1}\n"
     ]
    }
   ],
   "source": [
    "def countOccurance(str9):\n",
    "    occurance = dict()\n",
    "    words = str9.split()\n",
    "\n",
    "    for i in words:\n",
    "        if i in occurance:\n",
    "            occurance[i] += 1\n",
    "        else:\n",
    "            occurance[i] = 1\n",
    "\n",
    "    return occurance\n",
    "\n",
    "str9 = input(\"Enter string: \")\n",
    "print(countOccurance(str9))"
   ]
  },
  {
   "cell_type": "code",
   "execution_count": 42,
   "id": "4d829eee",
   "metadata": {},
   "outputs": [
    {
     "name": "stdout",
     "output_type": "stream",
     "text": [
      "True\n"
     ]
    }
   ],
   "source": [
    "def checkPalindrome(str10):\n",
    "    if(str10 == str10[::-1]):\n",
    "        return True\n",
    "    else:\n",
    "        return False\n",
    "\n",
    "str10 = \"ITI\"\n",
    "print(checkPalindrome(str10))"
   ]
  },
  {
   "cell_type": "code",
   "execution_count": 43,
   "id": "d387fef5",
   "metadata": {},
   "outputs": [
    {
     "name": "stdout",
     "output_type": "stream",
     "text": [
      "lipaK\n"
     ]
    }
   ],
   "source": [
    "str11 = \"Kapil\"\n",
    "print(str11[::-1])"
   ]
  }
 ],
 "metadata": {
  "kernelspec": {
   "display_name": "Python 3",
   "language": "python",
   "name": "python3"
  },
  "language_info": {
   "codemirror_mode": {
    "name": "ipython",
    "version": 3
   },
   "file_extension": ".py",
   "mimetype": "text/x-python",
   "name": "python",
   "nbconvert_exporter": "python",
   "pygments_lexer": "ipython3",
   "version": "3.8.8"
  }
 },
 "nbformat": 4,
 "nbformat_minor": 5
}
