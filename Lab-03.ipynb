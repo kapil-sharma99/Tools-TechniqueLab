{
 "cells": [
  {
   "cell_type": "code",
   "execution_count": 2,
   "id": "aec1a2bc",
   "metadata": {},
   "outputs": [
    {
     "name": "stdout",
     "output_type": "stream",
     "text": [
      "[1 2 3 4 5]\n"
     ]
    }
   ],
   "source": [
    "import numpy\n",
    "arr = numpy.array([1,2,3,4,5])\n",
    "print(arr)"
   ]
  },
  {
   "cell_type": "code",
   "execution_count": 4,
   "id": "6746ab59",
   "metadata": {},
   "outputs": [
    {
     "name": "stdout",
     "output_type": "stream",
     "text": [
      "[[1 2 3]\n",
      " [4 5 6]]\n"
     ]
    }
   ],
   "source": [
    "import numpy as np\n",
    "arr2 = np.array([[1, 2, 3], [4, 5, 6]])\n",
    "print(arr2)"
   ]
  },
  {
   "cell_type": "code",
   "execution_count": 6,
   "id": "40936f16",
   "metadata": {},
   "outputs": [
    {
     "name": "stdout",
     "output_type": "stream",
     "text": [
      "[[[1 2 3]\n",
      "  [1 2 3]]\n",
      "\n",
      " [[1 2 3]\n",
      "  [1 2 3]]]\n"
     ]
    }
   ],
   "source": [
    "arr3 = np.array([[[1, 2, 3], [1,2 ,3]], [[1, 2, 3], [1,2,3]]])\n",
    "print(arr3)"
   ]
  },
  {
   "cell_type": "code",
   "execution_count": 8,
   "id": "e9ba2efb",
   "metadata": {},
   "outputs": [
    {
     "name": "stdout",
     "output_type": "stream",
     "text": [
      "1.20.1\n"
     ]
    }
   ],
   "source": [
    "print(np.__version__)"
   ]
  },
  {
   "cell_type": "code",
   "execution_count": 10,
   "id": "6d8f067e",
   "metadata": {},
   "outputs": [
    {
     "name": "stdout",
     "output_type": "stream",
     "text": [
      "3\n"
     ]
    }
   ],
   "source": [
    "arr4 = np.array([[[1, 2, 3], [1,2 ,3]], [[1, 2, 3], [1,2,3]]])\n",
    "print(arr4[1,1,2])"
   ]
  },
  {
   "cell_type": "code",
   "execution_count": 13,
   "id": "8fd111b9",
   "metadata": {},
   "outputs": [
    {
     "name": "stdout",
     "output_type": "stream",
     "text": [
      "6\n"
     ]
    }
   ],
   "source": [
    "arr5 = np.array([[1, 2, 3], [4, 5, 6]])\n",
    "print(arr5[1, -1])"
   ]
  },
  {
   "cell_type": "code",
   "execution_count": 15,
   "id": "f45df5bf",
   "metadata": {},
   "outputs": [
    {
     "name": "stdout",
     "output_type": "stream",
     "text": [
      "[2 3 4 5]\n",
      "[2 3 4]\n"
     ]
    }
   ],
   "source": [
    "arr6 = np.array([1,2, 3, 4, 5, 6, 7, 8, 9])\n",
    "print(arr6[1:5])\n",
    "print(arr[-4:-1])"
   ]
  },
  {
   "cell_type": "code",
   "execution_count": 17,
   "id": "4301aa48",
   "metadata": {},
   "outputs": [
    {
     "name": "stdout",
     "output_type": "stream",
     "text": [
      "[5 6]\n"
     ]
    }
   ],
   "source": [
    "print(arr5[1, 1:3])"
   ]
  },
  {
   "cell_type": "code",
   "execution_count": 19,
   "id": "4b769078",
   "metadata": {},
   "outputs": [
    {
     "name": "stdout",
     "output_type": "stream",
     "text": [
      "[3 6]\n"
     ]
    }
   ],
   "source": [
    "print(arr5[0:2, 2])"
   ]
  },
  {
   "cell_type": "code",
   "execution_count": 21,
   "id": "39bbce7a",
   "metadata": {},
   "outputs": [
    {
     "name": "stdout",
     "output_type": "stream",
     "text": [
      "[1 2 3 4 5 6 7 8 9]\n",
      "[1 2 3 4 5 6 7 8 9]\n"
     ]
    }
   ],
   "source": [
    "x = arr6.copy()\n",
    "y = arr6.view()\n",
    "print(x)\n",
    "print(y)"
   ]
  },
  {
   "cell_type": "code",
   "execution_count": 25,
   "id": "ef3f1859",
   "metadata": {},
   "outputs": [
    {
     "name": "stdout",
     "output_type": "stream",
     "text": [
      "(2, 3)\n"
     ]
    }
   ],
   "source": [
    "print(arr5.shape)"
   ]
  },
  {
   "cell_type": "code",
   "execution_count": 31,
   "id": "37e24b28",
   "metadata": {},
   "outputs": [
    {
     "name": "stdout",
     "output_type": "stream",
     "text": [
      "[[1 2 3]\n",
      " [4 5 6]\n",
      " [7 8 9]]\n"
     ]
    }
   ],
   "source": [
    "reshapedArr6 = arr6.reshape(3,3)\n",
    "print(reshapedArr6)"
   ]
  },
  {
   "cell_type": "code",
   "execution_count": 34,
   "id": "e928e06c",
   "metadata": {},
   "outputs": [
    {
     "name": "stdout",
     "output_type": "stream",
     "text": [
      "[1 2 3 4 5 1 2 3 4 5 6 7 8 9]\n"
     ]
    }
   ],
   "source": [
    "concArr = np.concatenate((arr, arr6))\n",
    "print(concArr)"
   ]
  },
  {
   "cell_type": "code",
   "execution_count": 38,
   "id": "d2df1470",
   "metadata": {},
   "outputs": [
    {
     "name": "stdout",
     "output_type": "stream",
     "text": [
      "[[[1 2 3]\n",
      "  [1 2 3]]\n",
      "\n",
      " [[1 2 3]\n",
      "  [1 2 3]]\n",
      "\n",
      " [[1 2 3]\n",
      "  [1 2 3]]\n",
      "\n",
      " [[1 2 3]\n",
      "  [1 2 3]]]\n"
     ]
    }
   ],
   "source": [
    "concArr2D = np.concatenate((arr4, arr3))\n",
    "print(concArr2D)"
   ]
  },
  {
   "cell_type": "code",
   "execution_count": 41,
   "id": "225369bb",
   "metadata": {},
   "outputs": [
    {
     "name": "stdout",
     "output_type": "stream",
     "text": [
      "[array([[[1, 2, 3],\n",
      "        [1, 2, 3]]]), array([[[1, 2, 3],\n",
      "        [1, 2, 3]]]), array([[[1, 2, 3],\n",
      "        [1, 2, 3]]]), array([[[1, 2, 3],\n",
      "        [1, 2, 3]]])]\n"
     ]
    }
   ],
   "source": [
    "splitArr = np.array_split(concArr2D, 4)\n",
    "print(splitArr)"
   ]
  },
  {
   "cell_type": "code",
   "execution_count": 43,
   "id": "6efefd1e",
   "metadata": {},
   "outputs": [
    {
     "name": "stdout",
     "output_type": "stream",
     "text": [
      "[1 2 3 4 5 6 7 8 9]\n"
     ]
    }
   ],
   "source": [
    "print(np.sort(arr6))"
   ]
  },
  {
   "cell_type": "code",
   "execution_count": null,
   "id": "ece1d178",
   "metadata": {},
   "outputs": [],
   "source": []
  }
 ],
 "metadata": {
  "kernelspec": {
   "display_name": "Python 3",
   "language": "python",
   "name": "python3"
  },
  "language_info": {
   "codemirror_mode": {
    "name": "ipython",
    "version": 3
   },
   "file_extension": ".py",
   "mimetype": "text/x-python",
   "name": "python",
   "nbconvert_exporter": "python",
   "pygments_lexer": "ipython3",
   "version": "3.8.8"
  }
 },
 "nbformat": 4,
 "nbformat_minor": 5
}
