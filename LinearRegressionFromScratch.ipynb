{
 "cells": [
  {
   "cell_type": "markdown",
   "id": "e391750e",
   "metadata": {},
   "source": [
    "## Linear Regression from scratch without using library function."
   ]
  },
  {
   "cell_type": "code",
   "execution_count": 20,
   "id": "7b767f58",
   "metadata": {},
   "outputs": [],
   "source": [
    "import pandas as pd\n",
    "import numpy as np\n",
    "import matplotlib.pyplot as plt\n",
    "plt.rcParams['figure.figsize'] = (20.0, 10.0)"
   ]
  },
  {
   "cell_type": "code",
   "execution_count": 22,
   "id": "cb4dff83",
   "metadata": {},
   "outputs": [
    {
     "data": {
      "text/html": [
       "<div>\n",
       "<style scoped>\n",
       "    .dataframe tbody tr th:only-of-type {\n",
       "        vertical-align: middle;\n",
       "    }\n",
       "\n",
       "    .dataframe tbody tr th {\n",
       "        vertical-align: top;\n",
       "    }\n",
       "\n",
       "    .dataframe thead th {\n",
       "        text-align: right;\n",
       "    }\n",
       "</style>\n",
       "<table border=\"1\" class=\"dataframe\">\n",
       "  <thead>\n",
       "    <tr style=\"text-align: right;\">\n",
       "      <th></th>\n",
       "      <th>town</th>\n",
       "      <th>area</th>\n",
       "      <th>price</th>\n",
       "    </tr>\n",
       "  </thead>\n",
       "  <tbody>\n",
       "    <tr>\n",
       "      <th>0</th>\n",
       "      <td>monroe township</td>\n",
       "      <td>2600</td>\n",
       "      <td>550000</td>\n",
       "    </tr>\n",
       "    <tr>\n",
       "      <th>1</th>\n",
       "      <td>monroe township</td>\n",
       "      <td>3000</td>\n",
       "      <td>565000</td>\n",
       "    </tr>\n",
       "    <tr>\n",
       "      <th>2</th>\n",
       "      <td>monroe township</td>\n",
       "      <td>3200</td>\n",
       "      <td>610000</td>\n",
       "    </tr>\n",
       "    <tr>\n",
       "      <th>3</th>\n",
       "      <td>monroe township</td>\n",
       "      <td>3600</td>\n",
       "      <td>680000</td>\n",
       "    </tr>\n",
       "    <tr>\n",
       "      <th>4</th>\n",
       "      <td>monroe township</td>\n",
       "      <td>4000</td>\n",
       "      <td>725000</td>\n",
       "    </tr>\n",
       "    <tr>\n",
       "      <th>5</th>\n",
       "      <td>west windsor</td>\n",
       "      <td>2600</td>\n",
       "      <td>585000</td>\n",
       "    </tr>\n",
       "    <tr>\n",
       "      <th>6</th>\n",
       "      <td>west windsor</td>\n",
       "      <td>2800</td>\n",
       "      <td>615000</td>\n",
       "    </tr>\n",
       "    <tr>\n",
       "      <th>7</th>\n",
       "      <td>west windsor</td>\n",
       "      <td>3300</td>\n",
       "      <td>650000</td>\n",
       "    </tr>\n",
       "    <tr>\n",
       "      <th>8</th>\n",
       "      <td>west windsor</td>\n",
       "      <td>3600</td>\n",
       "      <td>710000</td>\n",
       "    </tr>\n",
       "    <tr>\n",
       "      <th>9</th>\n",
       "      <td>robinsville</td>\n",
       "      <td>2600</td>\n",
       "      <td>575000</td>\n",
       "    </tr>\n",
       "    <tr>\n",
       "      <th>10</th>\n",
       "      <td>robinsville</td>\n",
       "      <td>2900</td>\n",
       "      <td>600000</td>\n",
       "    </tr>\n",
       "    <tr>\n",
       "      <th>11</th>\n",
       "      <td>robinsville</td>\n",
       "      <td>3100</td>\n",
       "      <td>620000</td>\n",
       "    </tr>\n",
       "    <tr>\n",
       "      <th>12</th>\n",
       "      <td>robinsville</td>\n",
       "      <td>3600</td>\n",
       "      <td>695000</td>\n",
       "    </tr>\n",
       "  </tbody>\n",
       "</table>\n",
       "</div>"
      ],
      "text/plain": [
       "               town  area   price\n",
       "0   monroe township  2600  550000\n",
       "1   monroe township  3000  565000\n",
       "2   monroe township  3200  610000\n",
       "3   monroe township  3600  680000\n",
       "4   monroe township  4000  725000\n",
       "5      west windsor  2600  585000\n",
       "6      west windsor  2800  615000\n",
       "7      west windsor  3300  650000\n",
       "8      west windsor  3600  710000\n",
       "9       robinsville  2600  575000\n",
       "10      robinsville  2900  600000\n",
       "11      robinsville  3100  620000\n",
       "12      robinsville  3600  695000"
      ]
     },
     "execution_count": 22,
     "metadata": {},
     "output_type": "execute_result"
    }
   ],
   "source": [
    "df = pd.read_csv(\"homeprices1.csv\")\n",
    "df"
   ]
  },
  {
   "cell_type": "code",
   "execution_count": 24,
   "id": "ebeda7ab",
   "metadata": {},
   "outputs": [],
   "source": [
    "X = df['area']\n",
    "Y = df['price']"
   ]
  },
  {
   "cell_type": "code",
   "execution_count": 27,
   "id": "b4979879",
   "metadata": {},
   "outputs": [],
   "source": [
    "mean_x = np.mean(X)\n",
    "mean_y = np.mean(Y)\n",
    "n = len(X)\n",
    "\n",
    "num = 0\n",
    "den = 0\n",
    "\n",
    "for i in range(n):\n",
    "    num += (X[i] - mean_x) * (Y[i] - mean_y)\n",
    "    den += (X[i] - mean_x) ** 2\n",
    "    m = num / den\n",
    "    c = mean_y - (m * mean_x)"
   ]
  },
  {
   "cell_type": "code",
   "execution_count": 29,
   "id": "6b4d5a1e",
   "metadata": {},
   "outputs": [],
   "source": [
    "max_x = np.max(X)\n",
    "min_x = np.min(X)\n",
    "x = np.linspace(min_x, max_x, 1000)\n",
    "y = m * x + c"
   ]
  },
  {
   "cell_type": "code",
   "execution_count": 32,
   "id": "0592ce57",
   "metadata": {},
   "outputs": [
    {
     "data": {
      "image/png": "[encoded data removed]",
      "text/plain": [
       "<Figure size 1440x720 with 1 Axes>"
      ]
     },
     "metadata": {
      "needs_background": "light"
     },
     "output_type": "display_data"
    }
   ],
   "source": [
    "plt.plot(x, y, color='#52b920', label=\"Regression Line\")\n",
    "plt.scatter(X, Y, color='#ef4423', label=\"Scatter plot\")\n",
    "plt.xlabel('area of house')\n",
    "plt.ylabel('Price of house')\n",
    "plt.legend()\n",
    "plt.show()"
   ]
  }
 ],
 "metadata": {
  "kernelspec": {
   "display_name": "Python 3",
   "language": "python",
   "name": "python3"
  },
  "language_info": {
   "codemirror_mode": {
    "name": "ipython",
    "version": 3
   },
   "file_extension": ".py",
   "mimetype": "text/x-python",
   "name": "python",
   "nbconvert_exporter": "python",
   "pygments_lexer": "ipython3",
   "version": "3.8.8"
  }
 },
 "nbformat": 4,
 "nbformat_minor": 5
}
