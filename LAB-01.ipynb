{
 "cells": [
  {
   "cell_type": "code",
   "execution_count": 2,
   "id": "10ac6da0",
   "metadata": {},
   "outputs": [
    {
     "name": "stdout",
     "output_type": "stream",
     "text": [
      "34\n"
     ]
    }
   ],
   "source": [
    "#Program-01\n",
    "def fibonacciSeries(n):\n",
    "    if n <= 0:\n",
    "        print(\"Incorrect input\")\n",
    "    elif n == 1:\n",
    "        return 0\n",
    "    elif n == 2:\n",
    "        return 1\n",
    "    else:\n",
    "        return fibonacciSeries(n-1)+fibonacciSeries(n-2)\n",
    "  \n",
    "print(fibonacciSeries(10))"
   ]
  },
  {
   "cell_type": "code",
   "execution_count": 5,
   "id": "3072ede2",
   "metadata": {},
   "outputs": [
    {
     "name": "stdout",
     "output_type": "stream",
     "text": [
      "011000"
     ]
    }
   ],
   "source": [
    "#Program-02\n",
    "def DecimalToBinary(num):\n",
    "    if num >= 1:\n",
    "        DecimalToBinary(num // 2)\n",
    "    print(num % 2, end = '')\n",
    "    \n",
    "DecimalToBinary(24)"
   ]
  },
  {
   "cell_type": "code",
   "execution_count": 24,
   "id": "1c055d6b",
   "metadata": {},
   "outputs": [
    {
     "name": "stdout",
     "output_type": "stream",
     "text": [
      "Enter a number: 43\n",
      "PRIME\n",
      "Next prime number is:  47\n"
     ]
    }
   ],
   "source": [
    "#Program-03\n",
    "def isPrime(n):\n",
    "    if n>1 :\n",
    "        for i in range(2, int(n/2)+1):\n",
    "            if n%i == 0:\n",
    "                return False\n",
    "        return True\n",
    "    else:\n",
    "        return False\n",
    "\n",
    "n = int(input(\"Enter a number: \"))\n",
    "if isPrime(n):\n",
    "    print(\"PRIME\")\n",
    "    n += 1\n",
    "    while not(isPrime(n)):\n",
    "        n += 1\n",
    "    print(\"Next prime number is: \", n)\n",
    "else:\n",
    "    print(\"NOT A PRIME\")"
   ]
  },
  {
   "cell_type": "code",
   "execution_count": 34,
   "id": "2777f282",
   "metadata": {},
   "outputs": [
    {
     "name": "stdout",
     "output_type": "stream",
     "text": [
      "Enter string: Welcome to KIIT\n",
      "vowels: 4, Consonants: 9, Digits: 0, Speicals: 2\n"
     ]
    }
   ],
   "source": [
    "#Program-04\n",
    "def getCharNum(string):\n",
    "    counts = [0,0,0,0]\n",
    "    vowels = ['a','e','i','o','u']\n",
    "    for i in string:\n",
    "        if (i>='a' and i<='z') or (i>='A' and i<='Z'):\n",
    "            if i in vowels:\n",
    "                counts[0] += 1\n",
    "            else:\n",
    "                counts[1] += 1\n",
    "        elif i>='0' and i<='9':\n",
    "            counts[2] += 1\n",
    "        else:\n",
    "            counts[3] += 1\n",
    "    return counts[0], counts[1], counts[2], counts[3]\n",
    "\n",
    "string1 = input(\"Enter string: \")\n",
    "vowel, consonant, digit, special = getCharNum(string1)\n",
    "print(\"vowels: \" + str(vowel) + \", Consonants: \" + str(consonant) + \", Digits: \" + str(digit) + \", Speicals: \" + str(special))"
   ]
  },
  {
   "cell_type": "code",
   "execution_count": 25,
   "id": "f19cbabe",
   "metadata": {},
   "outputs": [
    {
     "name": "stdout",
     "output_type": "stream",
     "text": [
      "Enter string 1: INDIA\n",
      "Enter string 2: patna\n",
      "IpNaDtInAa\n"
     ]
    }
   ],
   "source": [
    "#Program-05\n",
    "def concatenateStrings(str1 , str2):\n",
    "    str3 = ''\n",
    "    n1 = 0\n",
    "    n2 = 0\n",
    "    \n",
    "    while n1 < len(str1) and n2 < len(str2):\n",
    "        str3 += str1[n1]\n",
    "        str3 += str2[n2]\n",
    "        n1 += 1\n",
    "        n2 += 1\n",
    "        \n",
    "    if n1 < len(str1):\n",
    "        str3 += str1[n1]\n",
    "        n1 += 1\n",
    "        \n",
    "    if n2 < len(str2):\n",
    "        str3 += str2[n2]\n",
    "        n2 += 1\n",
    "    return str3\n",
    "\n",
    "str1 = input(\"Enter string 1: \")\n",
    "str2 = input(\"Enter string 2: \")\n",
    "print(concatenateStrings(str1, str2))"
   ]
  }
 ],
 "metadata": {
  "kernelspec": {
   "display_name": "Python 3",
   "language": "python",
   "name": "python3"
  },
  "language_info": {
   "codemirror_mode": {
    "name": "ipython",
    "version": 3
   },
   "file_extension": ".py",
   "mimetype": "text/x-python",
   "name": "python",
   "nbconvert_exporter": "python",
   "pygments_lexer": "ipython3",
   "version": "3.8.8"
  }
 },
 "nbformat": 4,
 "nbformat_minor": 5
}
