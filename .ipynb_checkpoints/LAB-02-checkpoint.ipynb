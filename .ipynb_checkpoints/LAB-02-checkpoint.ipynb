{
 "cells": [
  {
   "cell_type": "code",
   "execution_count": 2,
   "id": "c1374e2f",
   "metadata": {},
   "outputs": [
    {
     "name": "stdout",
     "output_type": "stream",
     "text": [
      "6\n"
     ]
    }
   ],
   "source": [
    "List1_343 = [\"Apple\", \"Samsung\", \"Redmi\", \"Realme\", \"Moto\", \"Vivo\"]\n",
    "print(len(List1_343))"
   ]
  },
  {
   "cell_type": "code",
   "execution_count": 20,
   "id": "b42e0fc6",
   "metadata": {},
   "outputs": [
    {
     "name": "stdout",
     "output_type": "stream",
     "text": [
      "[10, 23, 44, 50, 59, 67, 88]\n",
      "88\n"
     ]
    }
   ],
   "source": [
    "List2_343 = [10, 44, 23, 67, 59, 88, 50]\n",
    "List2_343.sort()\n",
    "print(List2_343)\n",
    "print(List2_343[-1])"
   ]
  },
  {
   "cell_type": "code",
   "execution_count": 4,
   "id": "dd3e5ef5",
   "metadata": {},
   "outputs": [
    {
     "name": "stdout",
     "output_type": "stream",
     "text": [
      "341\n"
     ]
    }
   ],
   "source": [
    "print(sum(List2_343))"
   ]
  },
  {
   "cell_type": "code",
   "execution_count": 5,
   "id": "1d7701b8",
   "metadata": {},
   "outputs": [
    {
     "name": "stdout",
     "output_type": "stream",
     "text": [
      "Enter number1: 2\n",
      "Enter number2: 3\n",
      "[10, 20]\n",
      "[30]\n",
      "[40, 50, 60, 70]\n"
     ]
    }
   ],
   "source": [
    "n1 = int(input(\"Enter number1: \"))\n",
    "n2 = int(input(\"Enter number2: \"))\n",
    "List5_343 = [10, 20, 30, 40, 50, 60, 70]\n",
    "l1_343 = List5_343[:n1]\n",
    "l2_343 = List5_343[n1:n2]\n",
    "l3_343 = List5_343[n2:]\n",
    "print(l1_343)\n",
    "print(l2_343)\n",
    "print(l3_343)"
   ]
  },
  {
   "cell_type": "markdown",
   "id": "286aa7a7",
   "metadata": {},
   "source": []
  },
  {
   "cell_type": "code",
   "execution_count": 6,
   "id": "53baee3a",
   "metadata": {},
   "outputs": [
    {
     "name": "stdout",
     "output_type": "stream",
     "text": [
      "[90, 78, 56, 50, 45, 42, 22, 12]\n"
     ]
    }
   ],
   "source": [
    "List3_343 = [12, 45, 56, 78, 22, 42, 90, 50]\n",
    "List3_343.sort()\n",
    "List3_343.reverse()\n",
    "print(List3_343)"
   ]
  },
  {
   "cell_type": "code",
   "execution_count": 7,
   "id": "804bd65d",
   "metadata": {},
   "outputs": [
    {
     "name": "stdout",
     "output_type": "stream",
     "text": [
      "[10, 20, 30, 40, 50, 60]\n"
     ]
    }
   ],
   "source": [
    "List4_343 = [10, 20, 30]\n",
    "List5_343 = [40, 50, 60]\n",
    "print(List4_343 + List5_343)"
   ]
  },
  {
   "cell_type": "code",
   "execution_count": 8,
   "id": "a2f18de3",
   "metadata": {},
   "outputs": [
    {
     "name": "stdout",
     "output_type": "stream",
     "text": [
      "('Fish', 'Elephant', 'Dog', 'Cat', 'Ball', 'Apple')\n"
     ]
    }
   ],
   "source": [
    "Tuple1_343 = 'Apple', 'Ball', 'Cat', 'Dog', 'Elephant', 'Fish'\n",
    "print(tuple(reversed(Tuple1_343)))"
   ]
  },
  {
   "cell_type": "code",
   "execution_count": 9,
   "id": "d4801018",
   "metadata": {},
   "outputs": [
    {
     "name": "stdout",
     "output_type": "stream",
     "text": [
      "<class 'tuple'>\n",
      "<class 'str'>\n",
      "KAPIL\n",
      "Kapil\n"
     ]
    }
   ],
   "source": [
    "Tuple2_343 = 'K', 'A', 'P', 'I', 'L'\n",
    "print(type(Tuple2_343))\n",
    "str = ''.join(Tuple2_343)\n",
    "print(type(str))\n",
    "print(str)\n",
    "st1 = \"Kapil\"\n",
    "print(st1)"
   ]
  },
  {
   "cell_type": "code",
   "execution_count": 10,
   "id": "82717eaa",
   "metadata": {},
   "outputs": [
    {
     "name": "stdout",
     "output_type": "stream",
     "text": [
      "('Apple', 'Samsung', 'Redmi', 'Realme', 'Moto', 'Vivo')\n"
     ]
    }
   ],
   "source": [
    "print(tuple(List1_343))"
   ]
  },
  {
   "cell_type": "code",
   "execution_count": 11,
   "id": "d764e3a2",
   "metadata": {},
   "outputs": [
    {
     "name": "stdout",
     "output_type": "stream",
     "text": [
      "True\n"
     ]
    }
   ],
   "source": [
    "list1_343 = ['Tomato', 'Potato', 'Onion', 'Garlic', 'Ladyfinger']\n",
    "print('Tomato' in list1_343)"
   ]
  },
  {
   "cell_type": "code",
   "execution_count": 12,
   "id": "41185f13",
   "metadata": {},
   "outputs": [
    {
     "name": "stdout",
     "output_type": "stream",
     "text": [
      "[1, 2, 3, 4, 5]\n"
     ]
    }
   ],
   "source": [
    "list2_343 = [1, 1, 2, 2, 3, 3, 4, 4, 5, 5]\n",
    "list3_343 = list()\n",
    "for i in list2_343:\n",
    "  if i not in list3_343:\n",
    "    list3_343.append(i)\n",
    "print(list3_343)"
   ]
  },
  {
   "cell_type": "code",
   "execution_count": 15,
   "id": "ba7b8a24",
   "metadata": {},
   "outputs": [
    {
     "name": "stdout",
     "output_type": "stream",
     "text": [
      "15\n"
     ]
    }
   ],
   "source": [
    "sum_343 = 0\n",
    "for i in list3_343:\n",
    "  sum_343 = sum_343 + i\n",
    "print(sum_343)"
   ]
  },
  {
   "cell_type": "code",
   "execution_count": 16,
   "id": "70a745d9",
   "metadata": {},
   "outputs": [
    {
     "name": "stdout",
     "output_type": "stream",
     "text": [
      "<class 'set'>\n",
      "{333, 339, 341, 342, 343}\n"
     ]
    }
   ],
   "source": [
    "Set1 = set()\n",
    "print(type(Set1))\n",
    "Set1.add(343)\n",
    "Set1.add(342)\n",
    "Set1.add(341)\n",
    "Set1.add(339)\n",
    "Set1.add(333)\n",
    "Set1.add(343)\n",
    "print(Set1)"
   ]
  },
  {
   "cell_type": "code",
   "execution_count": 17,
   "id": "a29bccb0",
   "metadata": {},
   "outputs": [
    {
     "name": "stdout",
     "output_type": "stream",
     "text": [
      "{333, (123, 456, 789), 339, 341, 342, 343}\n",
      "{333, (123, 456, 789), 339, 341, 343}\n"
     ]
    }
   ],
   "source": [
    "Set1.add((123, 456, 789))\n",
    "print(Set1)\n",
    "Set1.remove(342)\n",
    "print(Set1)"
   ]
  },
  {
   "cell_type": "code",
   "execution_count": 18,
   "id": "943e33da",
   "metadata": {},
   "outputs": [
    {
     "name": "stdout",
     "output_type": "stream",
     "text": [
      "{339, 341, (123, 456, 789), 343, 333, 222, 111}\n"
     ]
    }
   ],
   "source": [
    "Set2 = set()\n",
    "Set2.add(111)\n",
    "Set2.add(222)\n",
    "Set2.add(333)\n",
    "\n",
    "Set3 = set()\n",
    "Set3 = Set1.union(Set2)\n",
    "print(Set3)"
   ]
  },
  {
   "cell_type": "code",
   "execution_count": 19,
   "id": "0b687c27",
   "metadata": {},
   "outputs": [
    {
     "name": "stdout",
     "output_type": "stream",
     "text": [
      "True\n"
     ]
    }
   ],
   "source": [
    "print(Set2.issubset(Set3))"
   ]
  }
 ],
 "metadata": {
  "kernelspec": {
   "display_name": "Python 3",
   "language": "python",
   "name": "python3"
  },
  "language_info": {
   "codemirror_mode": {
    "name": "ipython",
    "version": 3
   },
   "file_extension": ".py",
   "mimetype": "text/x-python",
   "name": "python",
   "nbconvert_exporter": "python",
   "pygments_lexer": "ipython3",
   "version": "3.8.8"
  }
 },
 "nbformat": 4,
 "nbformat_minor": 5
}
